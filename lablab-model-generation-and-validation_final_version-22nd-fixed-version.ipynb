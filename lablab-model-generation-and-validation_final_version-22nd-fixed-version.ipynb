{
 "cells": [
  {
   "cell_type": "markdown",
   "id": "7b003cba",
   "metadata": {},
   "source": [
    "# Lab | model generation and valiation"
   ]
  },
  {
   "cell_type": "code",
   "execution_count": 1,
   "id": "86aa9d0c",
   "metadata": {},
   "outputs": [],
   "source": [
    "import pandas as pd\n",
    "import numpy as np\n",
    "import matplotlib.pyplot as plt\n",
    "import seaborn as sns\n",
    "%matplotlib inline"
   ]
  },
  {
   "cell_type": "code",
   "execution_count": 2,
   "id": "8e9ec659",
   "metadata": {},
   "outputs": [
    {
     "name": "stdout",
     "output_type": "stream",
     "text": [
      "downloaded\n"
     ]
    }
   ],
   "source": [
    "#download the data\n",
    "data = pd.read_csv('./files_for_lab/csv_files/marketing_customer_analysis.csv')\n",
    "print(\"downloaded\")"
   ]
  },
  {
   "cell_type": "code",
   "execution_count": 3,
   "id": "5bc74f5f",
   "metadata": {},
   "outputs": [
    {
     "data": {
      "text/html": [
       "<div>\n",
       "<style scoped>\n",
       "    .dataframe tbody tr th:only-of-type {\n",
       "        vertical-align: middle;\n",
       "    }\n",
       "\n",
       "    .dataframe tbody tr th {\n",
       "        vertical-align: top;\n",
       "    }\n",
       "\n",
       "    .dataframe thead th {\n",
       "        text-align: right;\n",
       "    }\n",
       "</style>\n",
       "<table border=\"1\" class=\"dataframe\">\n",
       "  <thead>\n",
       "    <tr style=\"text-align: right;\">\n",
       "      <th></th>\n",
       "      <th>Customer</th>\n",
       "      <th>State</th>\n",
       "      <th>Customer Lifetime Value</th>\n",
       "      <th>Response</th>\n",
       "      <th>Coverage</th>\n",
       "      <th>Education</th>\n",
       "      <th>Effective To Date</th>\n",
       "      <th>EmploymentStatus</th>\n",
       "      <th>Gender</th>\n",
       "      <th>Income</th>\n",
       "      <th>...</th>\n",
       "      <th>Months Since Policy Inception</th>\n",
       "      <th>Number of Open Complaints</th>\n",
       "      <th>Number of Policies</th>\n",
       "      <th>Policy Type</th>\n",
       "      <th>Policy</th>\n",
       "      <th>Renew Offer Type</th>\n",
       "      <th>Sales Channel</th>\n",
       "      <th>Total Claim Amount</th>\n",
       "      <th>Vehicle Class</th>\n",
       "      <th>Vehicle Size</th>\n",
       "    </tr>\n",
       "  </thead>\n",
       "  <tbody>\n",
       "    <tr>\n",
       "      <th>0</th>\n",
       "      <td>BU79786</td>\n",
       "      <td>Washington</td>\n",
       "      <td>2763.519279</td>\n",
       "      <td>No</td>\n",
       "      <td>Basic</td>\n",
       "      <td>Bachelor</td>\n",
       "      <td>2/24/11</td>\n",
       "      <td>Employed</td>\n",
       "      <td>F</td>\n",
       "      <td>56274</td>\n",
       "      <td>...</td>\n",
       "      <td>5</td>\n",
       "      <td>0</td>\n",
       "      <td>1</td>\n",
       "      <td>Corporate Auto</td>\n",
       "      <td>Corporate L3</td>\n",
       "      <td>Offer1</td>\n",
       "      <td>Agent</td>\n",
       "      <td>384.811147</td>\n",
       "      <td>Two-Door Car</td>\n",
       "      <td>Medsize</td>\n",
       "    </tr>\n",
       "    <tr>\n",
       "      <th>1</th>\n",
       "      <td>QZ44356</td>\n",
       "      <td>Arizona</td>\n",
       "      <td>6979.535903</td>\n",
       "      <td>No</td>\n",
       "      <td>Extended</td>\n",
       "      <td>Bachelor</td>\n",
       "      <td>1/31/11</td>\n",
       "      <td>Unemployed</td>\n",
       "      <td>F</td>\n",
       "      <td>0</td>\n",
       "      <td>...</td>\n",
       "      <td>42</td>\n",
       "      <td>0</td>\n",
       "      <td>8</td>\n",
       "      <td>Personal Auto</td>\n",
       "      <td>Personal L3</td>\n",
       "      <td>Offer3</td>\n",
       "      <td>Agent</td>\n",
       "      <td>1131.464935</td>\n",
       "      <td>Four-Door Car</td>\n",
       "      <td>Medsize</td>\n",
       "    </tr>\n",
       "    <tr>\n",
       "      <th>2</th>\n",
       "      <td>AI49188</td>\n",
       "      <td>Nevada</td>\n",
       "      <td>12887.431650</td>\n",
       "      <td>No</td>\n",
       "      <td>Premium</td>\n",
       "      <td>Bachelor</td>\n",
       "      <td>2/19/11</td>\n",
       "      <td>Employed</td>\n",
       "      <td>F</td>\n",
       "      <td>48767</td>\n",
       "      <td>...</td>\n",
       "      <td>38</td>\n",
       "      <td>0</td>\n",
       "      <td>2</td>\n",
       "      <td>Personal Auto</td>\n",
       "      <td>Personal L3</td>\n",
       "      <td>Offer1</td>\n",
       "      <td>Agent</td>\n",
       "      <td>566.472247</td>\n",
       "      <td>Two-Door Car</td>\n",
       "      <td>Medsize</td>\n",
       "    </tr>\n",
       "  </tbody>\n",
       "</table>\n",
       "<p>3 rows × 24 columns</p>\n",
       "</div>"
      ],
      "text/plain": [
       "  Customer       State  Customer Lifetime Value Response  Coverage Education  \\\n",
       "0  BU79786  Washington              2763.519279       No     Basic  Bachelor   \n",
       "1  QZ44356     Arizona              6979.535903       No  Extended  Bachelor   \n",
       "2  AI49188      Nevada             12887.431650       No   Premium  Bachelor   \n",
       "\n",
       "  Effective To Date EmploymentStatus Gender  Income  ...  \\\n",
       "0           2/24/11         Employed      F   56274  ...   \n",
       "1           1/31/11       Unemployed      F       0  ...   \n",
       "2           2/19/11         Employed      F   48767  ...   \n",
       "\n",
       "  Months Since Policy Inception Number of Open Complaints  Number of Policies  \\\n",
       "0                             5                         0                   1   \n",
       "1                            42                         0                   8   \n",
       "2                            38                         0                   2   \n",
       "\n",
       "      Policy Type        Policy  Renew Offer Type  Sales Channel  \\\n",
       "0  Corporate Auto  Corporate L3            Offer1          Agent   \n",
       "1   Personal Auto   Personal L3            Offer3          Agent   \n",
       "2   Personal Auto   Personal L3            Offer1          Agent   \n",
       "\n",
       "  Total Claim Amount  Vehicle Class Vehicle Size  \n",
       "0         384.811147   Two-Door Car      Medsize  \n",
       "1        1131.464935  Four-Door Car      Medsize  \n",
       "2         566.472247   Two-Door Car      Medsize  \n",
       "\n",
       "[3 rows x 24 columns]"
      ]
     },
     "execution_count": 3,
     "metadata": {},
     "output_type": "execute_result"
    }
   ],
   "source": [
    "data.head(3)"
   ]
  },
  {
   "cell_type": "code",
   "execution_count": 4,
   "id": "5003dbeb",
   "metadata": {},
   "outputs": [
    {
     "data": {
      "text/plain": [
       "Customer                         0\n",
       "State                            0\n",
       "Customer Lifetime Value          0\n",
       "Response                         0\n",
       "Coverage                         0\n",
       "Education                        0\n",
       "Effective To Date                0\n",
       "EmploymentStatus                 0\n",
       "Gender                           0\n",
       "Income                           0\n",
       "Location Code                    0\n",
       "Marital Status                   0\n",
       "Monthly Premium Auto             0\n",
       "Months Since Last Claim          0\n",
       "Months Since Policy Inception    0\n",
       "Number of Open Complaints        0\n",
       "Number of Policies               0\n",
       "Policy Type                      0\n",
       "Policy                           0\n",
       "Renew Offer Type                 0\n",
       "Sales Channel                    0\n",
       "Total Claim Amount               0\n",
       "Vehicle Class                    0\n",
       "Vehicle Size                     0\n",
       "dtype: int64"
      ]
     },
     "execution_count": 4,
     "metadata": {},
     "output_type": "execute_result"
    }
   ],
   "source": [
    "data.isnull().sum()"
   ]
  },
  {
   "cell_type": "code",
   "execution_count": 5,
   "id": "9baa70e6",
   "metadata": {},
   "outputs": [],
   "source": [
    "# %load \"cleaning_column_names.py\"\n",
    "#cleaning column Names \n",
    "\n",
    "import numpy as np\n",
    "import pandas as pd \n",
    "\n",
    "def to_lower_case(df: pd.DataFrame) -> pd.DataFrame:\n",
    "\n",
    "\t'''\n",
    "\tThis changes columns in lower case \n",
    "\n",
    "\tInput: \n",
    "\tdf:pd.DataFrame\n",
    "\n",
    "\tOurput: \n",
    "\tAnother pd.DataFrame\n",
    "\n",
    "\n",
    "\t'''\n",
    "\n",
    "\tdf2 = df.copy()\n",
    "\n",
    "\tcols = []\n",
    "\tfor colname in df2.columns:\n",
    "\t\tcols.append(colname.lower())\n",
    "\n",
    "\tdf2.columns = cols\n",
    "\n",
    "\t\n",
    "\treturn df2\n",
    "\n",
    "\n",
    "def column_name(df: pd.DataFrame) -> pd.DataFrame:\n",
    "\n",
    "\n",
    "\t'''\n",
    "\tRegarding column name, this replaces 'customer' of a column name with 'id', and '(space)' with '_'.   \n",
    "\n",
    "\tInput: \n",
    "\tdf:df.DataFrame\n",
    "\n",
    "\tOurput: \n",
    "\tAnother df.DataFrame\n",
    "\n",
    "\n",
    "\t'''\n",
    "\n",
    "\tdf2 = df.copy()\n",
    "\t#replace 'customer' with 'id'\n",
    "\tif 'customer' in df2.columns:\n",
    "\n",
    "\t\tdf2 = df2.rename(columns={'customer':'id'})\n",
    "\n",
    "\t#replace '(space)' with '_'\n",
    "\tdf2.columns = df2.columns.str.replace(' ', '_')\n",
    "\n",
    "\treturn df2\n",
    "\n",
    "\n",
    "\n",
    "def cleaning_column_names(df: pd.DataFrame) -> pd.DataFrame:\n",
    "\n",
    "\n",
    "\t'''\n",
    "\tThis cleans column names by using two functions above.\n",
    "\n",
    "\tInput: \n",
    "\tdf:pd.DataFrame\n",
    "\n",
    "\tOurput: \n",
    "\tAnother pd.DataFrame\n",
    "\n",
    "\n",
    "\t'''\n",
    "\n",
    "\tdf2 = df.copy()\n",
    "\n",
    "\tdf2 = to_lower_case(df2)\n",
    "\tdf2 = column_name(df2)\n",
    "\n",
    "\tprint('finished cleaning_column_names')\n",
    "\n",
    "\treturn df2\n",
    "\t\n",
    "\n",
    "\n",
    "\n"
   ]
  },
  {
   "cell_type": "code",
   "execution_count": 6,
   "id": "7efe242b",
   "metadata": {},
   "outputs": [
    {
     "name": "stdout",
     "output_type": "stream",
     "text": [
      "finished cleaning_column_names\n"
     ]
    }
   ],
   "source": [
    " # Clean the column names and check\n",
    "%run -i cleaning_column_names.py\n",
    "\n",
    "data = cleaning_column_names(data)"
   ]
  },
  {
   "cell_type": "markdown",
   "id": "5122239e",
   "metadata": {},
   "source": [
    "  "
   ]
  },
  {
   "cell_type": "markdown",
   "id": "3e35261e",
   "metadata": {},
   "source": [
    "1 Select the columns which are correlated with total_claim_amount and don't suffer from multicollinearity (see the previous lab)"
   ]
  },
  {
   "cell_type": "code",
   "execution_count": 7,
   "id": "a3db617d",
   "metadata": {},
   "outputs": [
    {
     "data": {
      "text/html": [
       "<div>\n",
       "<style scoped>\n",
       "    .dataframe tbody tr th:only-of-type {\n",
       "        vertical-align: middle;\n",
       "    }\n",
       "\n",
       "    .dataframe tbody tr th {\n",
       "        vertical-align: top;\n",
       "    }\n",
       "\n",
       "    .dataframe thead th {\n",
       "        text-align: right;\n",
       "    }\n",
       "</style>\n",
       "<table border=\"1\" class=\"dataframe\">\n",
       "  <thead>\n",
       "    <tr style=\"text-align: right;\">\n",
       "      <th></th>\n",
       "      <th>customer_lifetime_value</th>\n",
       "      <th>income</th>\n",
       "      <th>monthly_premium_auto</th>\n",
       "      <th>months_since_last_claim</th>\n",
       "      <th>months_since_policy_inception</th>\n",
       "      <th>number_of_open_complaints</th>\n",
       "      <th>number_of_policies</th>\n",
       "      <th>total_claim_amount</th>\n",
       "    </tr>\n",
       "  </thead>\n",
       "  <tbody>\n",
       "    <tr>\n",
       "      <th>customer_lifetime_value</th>\n",
       "      <td>1.000000</td>\n",
       "      <td>0.024366</td>\n",
       "      <td>0.396262</td>\n",
       "      <td>0.011517</td>\n",
       "      <td>0.009418</td>\n",
       "      <td>-0.036343</td>\n",
       "      <td>0.021955</td>\n",
       "      <td>0.226451</td>\n",
       "    </tr>\n",
       "    <tr>\n",
       "      <th>income</th>\n",
       "      <td>0.024366</td>\n",
       "      <td>1.000000</td>\n",
       "      <td>-0.016665</td>\n",
       "      <td>-0.026715</td>\n",
       "      <td>-0.000875</td>\n",
       "      <td>0.006408</td>\n",
       "      <td>-0.008656</td>\n",
       "      <td>-0.355254</td>\n",
       "    </tr>\n",
       "    <tr>\n",
       "      <th>monthly_premium_auto</th>\n",
       "      <td>0.396262</td>\n",
       "      <td>-0.016665</td>\n",
       "      <td>1.000000</td>\n",
       "      <td>0.005026</td>\n",
       "      <td>0.020257</td>\n",
       "      <td>-0.013122</td>\n",
       "      <td>-0.011233</td>\n",
       "      <td>0.632017</td>\n",
       "    </tr>\n",
       "    <tr>\n",
       "      <th>months_since_last_claim</th>\n",
       "      <td>0.011517</td>\n",
       "      <td>-0.026715</td>\n",
       "      <td>0.005026</td>\n",
       "      <td>1.000000</td>\n",
       "      <td>-0.042959</td>\n",
       "      <td>0.005354</td>\n",
       "      <td>0.009136</td>\n",
       "      <td>0.007563</td>\n",
       "    </tr>\n",
       "    <tr>\n",
       "      <th>months_since_policy_inception</th>\n",
       "      <td>0.009418</td>\n",
       "      <td>-0.000875</td>\n",
       "      <td>0.020257</td>\n",
       "      <td>-0.042959</td>\n",
       "      <td>1.000000</td>\n",
       "      <td>-0.001158</td>\n",
       "      <td>-0.013333</td>\n",
       "      <td>0.003335</td>\n",
       "    </tr>\n",
       "    <tr>\n",
       "      <th>number_of_open_complaints</th>\n",
       "      <td>-0.036343</td>\n",
       "      <td>0.006408</td>\n",
       "      <td>-0.013122</td>\n",
       "      <td>0.005354</td>\n",
       "      <td>-0.001158</td>\n",
       "      <td>1.000000</td>\n",
       "      <td>0.001498</td>\n",
       "      <td>-0.014241</td>\n",
       "    </tr>\n",
       "    <tr>\n",
       "      <th>number_of_policies</th>\n",
       "      <td>0.021955</td>\n",
       "      <td>-0.008656</td>\n",
       "      <td>-0.011233</td>\n",
       "      <td>0.009136</td>\n",
       "      <td>-0.013333</td>\n",
       "      <td>0.001498</td>\n",
       "      <td>1.000000</td>\n",
       "      <td>-0.002354</td>\n",
       "    </tr>\n",
       "    <tr>\n",
       "      <th>total_claim_amount</th>\n",
       "      <td>0.226451</td>\n",
       "      <td>-0.355254</td>\n",
       "      <td>0.632017</td>\n",
       "      <td>0.007563</td>\n",
       "      <td>0.003335</td>\n",
       "      <td>-0.014241</td>\n",
       "      <td>-0.002354</td>\n",
       "      <td>1.000000</td>\n",
       "    </tr>\n",
       "  </tbody>\n",
       "</table>\n",
       "</div>"
      ],
      "text/plain": [
       "                               customer_lifetime_value    income  \\\n",
       "customer_lifetime_value                       1.000000  0.024366   \n",
       "income                                        0.024366  1.000000   \n",
       "monthly_premium_auto                          0.396262 -0.016665   \n",
       "months_since_last_claim                       0.011517 -0.026715   \n",
       "months_since_policy_inception                 0.009418 -0.000875   \n",
       "number_of_open_complaints                    -0.036343  0.006408   \n",
       "number_of_policies                            0.021955 -0.008656   \n",
       "total_claim_amount                            0.226451 -0.355254   \n",
       "\n",
       "                               monthly_premium_auto  months_since_last_claim  \\\n",
       "customer_lifetime_value                    0.396262                 0.011517   \n",
       "income                                    -0.016665                -0.026715   \n",
       "monthly_premium_auto                       1.000000                 0.005026   \n",
       "months_since_last_claim                    0.005026                 1.000000   \n",
       "months_since_policy_inception              0.020257                -0.042959   \n",
       "number_of_open_complaints                 -0.013122                 0.005354   \n",
       "number_of_policies                        -0.011233                 0.009136   \n",
       "total_claim_amount                         0.632017                 0.007563   \n",
       "\n",
       "                               months_since_policy_inception  \\\n",
       "customer_lifetime_value                             0.009418   \n",
       "income                                             -0.000875   \n",
       "monthly_premium_auto                                0.020257   \n",
       "months_since_last_claim                            -0.042959   \n",
       "months_since_policy_inception                       1.000000   \n",
       "number_of_open_complaints                          -0.001158   \n",
       "number_of_policies                                 -0.013333   \n",
       "total_claim_amount                                  0.003335   \n",
       "\n",
       "                               number_of_open_complaints  number_of_policies  \\\n",
       "customer_lifetime_value                        -0.036343            0.021955   \n",
       "income                                          0.006408           -0.008656   \n",
       "monthly_premium_auto                           -0.013122           -0.011233   \n",
       "months_since_last_claim                         0.005354            0.009136   \n",
       "months_since_policy_inception                  -0.001158           -0.013333   \n",
       "number_of_open_complaints                       1.000000            0.001498   \n",
       "number_of_policies                              0.001498            1.000000   \n",
       "total_claim_amount                             -0.014241           -0.002354   \n",
       "\n",
       "                               total_claim_amount  \n",
       "customer_lifetime_value                  0.226451  \n",
       "income                                  -0.355254  \n",
       "monthly_premium_auto                     0.632017  \n",
       "months_since_last_claim                  0.007563  \n",
       "months_since_policy_inception            0.003335  \n",
       "number_of_open_complaints               -0.014241  \n",
       "number_of_policies                      -0.002354  \n",
       "total_claim_amount                       1.000000  "
      ]
     },
     "execution_count": 7,
     "metadata": {},
     "output_type": "execute_result"
    }
   ],
   "source": [
    "data.corr()"
   ]
  },
  {
   "cell_type": "code",
   "execution_count": 8,
   "id": "7088ddd4",
   "metadata": {},
   "outputs": [
    {
     "name": "stdout",
     "output_type": "stream",
     "text": [
      "Index([], dtype='object')\n"
     ]
    }
   ],
   "source": [
    "correlation_matrix = data.corr()\n",
    "\n",
    "# Select the columns that are correlated with total_claim_amount\n",
    "correlated_cols = correlation_matrix[abs(correlation_matrix['total_claim_amount']) > 0.75].index\n",
    "\n",
    "# Remove columns that suffer from multicollinearity\n",
    "selected_cols = []\n",
    "for col in correlated_cols:\n",
    "    if col != 'total_claim_amount':\n",
    "        if all(abs(correlation_matrix.loc[selected_col, 'total_claim_amount']) < 0.75 for selected_col in selected_cols):\n",
    "            selected_cols.append(col)\n",
    "\n",
    "selected_data = data[selected_cols]\n",
    "print(selected_data.columns)"
   ]
  },
  {
   "cell_type": "markdown",
   "id": "eebcbd4c",
   "metadata": {},
   "source": [
    "There is no correlated columns with total_claim_amount at the ratio 0.75. Therefore, there is no multicollinearity. 'monthly_premium_auto' was selected becase it has the highest correlation. "
   ]
  },
  {
   "cell_type": "markdown",
   "id": "e2b0b450",
   "metadata": {},
   "source": [
    "   "
   ]
  },
  {
   "cell_type": "markdown",
   "id": "89942611",
   "metadata": {},
   "source": [
    "2.Remove outliers"
   ]
  },
  {
   "cell_type": "code",
   "execution_count": 9,
   "id": "595ebf9d",
   "metadata": {},
   "outputs": [
    {
     "data": {
      "image/png": "[encoded data removed]",
      "text/plain": [
       "<Figure size 360x360 with 1 Axes>"
      ]
     },
     "metadata": {
      "needs_background": "light"
     },
     "output_type": "display_data"
    }
   ],
   "source": [
    "\n",
    "sns.displot(data['monthly_premium_auto']) #sns.displot(data=data, x='HV1')\n",
    "plt.show()"
   ]
  },
  {
   "cell_type": "markdown",
   "id": "770b4c9c",
   "metadata": {},
   "source": [
    "   "
   ]
  },
  {
   "cell_type": "code",
   "execution_count": 10,
   "id": "9a7b26f6",
   "metadata": {},
   "outputs": [
    {
     "data": {
      "text/plain": [
       "2.1235464499475345"
      ]
     },
     "execution_count": 10,
     "metadata": {},
     "output_type": "execute_result"
    }
   ],
   "source": [
    "#compute the skewness of this column using:\n",
    "data['monthly_premium_auto'].skew()\n"
   ]
  },
  {
   "cell_type": "markdown",
   "id": "6a1042c3",
   "metadata": {},
   "source": [
    "which is outside the [-2,2] range."
   ]
  },
  {
   "cell_type": "code",
   "execution_count": 11,
   "id": "56f7a455",
   "metadata": {},
   "outputs": [
    {
     "data": {
      "image/png": "[encoded data removed]",
      "text/plain": [
       "<Figure size 432x288 with 1 Axes>"
      ]
     },
     "metadata": {
      "needs_background": "light"
     },
     "output_type": "display_data"
    }
   ],
   "source": [
    "#check by boxplot\n",
    "sns.boxplot(x=data['monthly_premium_auto'])\n",
    "plt.show()"
   ]
  },
  {
   "cell_type": "code",
   "execution_count": 12,
   "id": "501b0450",
   "metadata": {},
   "outputs": [],
   "source": [
    "# removing the outliers from monthly_premium_auto \n",
    "\n",
    "iqr = np.percentile(data['monthly_premium_auto'],75) - np.percentile(data['monthly_premium_auto'],25) #blue box\n",
    "upper_wisker = np.percentile(data['monthly_premium_auto'],75) + 1.5*iqr\n",
    "lower_wisker = np.percentile(data['monthly_premium_auto'],25) - 1.5*iqr"
   ]
  },
  {
   "cell_type": "code",
   "execution_count": 13,
   "id": "509188da",
   "metadata": {},
   "outputs": [
    {
     "data": {
      "text/plain": [
       "6.5"
      ]
     },
     "execution_count": 13,
     "metadata": {},
     "output_type": "execute_result"
    }
   ],
   "source": [
    "lower_wisker"
   ]
  },
  {
   "cell_type": "code",
   "execution_count": 14,
   "id": "f3a8be83",
   "metadata": {},
   "outputs": [
    {
     "data": {
      "text/plain": [
       "170.5"
      ]
     },
     "execution_count": 14,
     "metadata": {},
     "output_type": "execute_result"
    }
   ],
   "source": [
    "upper_wisker"
   ]
  },
  {
   "cell_type": "code",
   "execution_count": 15,
   "id": "0f5d00fc",
   "metadata": {},
   "outputs": [
    {
     "data": {
      "image/png": "[encoded data removed]",
      "text/plain": [
       "<Figure size 360x360 with 1 Axes>"
      ]
     },
     "metadata": {
      "needs_background": "light"
     },
     "output_type": "display_data"
    }
   ],
   "source": [
    "data = data[(data['monthly_premium_auto']>lower_wisker) & (data['monthly_premium_auto']<upper_wisker)]\n",
    "sns.displot(data['monthly_premium_auto'])\n",
    "plt.show()"
   ]
  },
  {
   "cell_type": "markdown",
   "id": "880e5a49",
   "metadata": {},
   "source": [
    "  "
   ]
  },
  {
   "cell_type": "markdown",
   "id": "891310ff",
   "metadata": {},
   "source": [
    "4. X-y split. (define which column you want to predict, and which ones you will use to make the prediction)"
   ]
  },
  {
   "cell_type": "code",
   "execution_count": 16,
   "id": "040b5617",
   "metadata": {},
   "outputs": [
    {
     "data": {
      "text/html": [
       "<div>\n",
       "<style scoped>\n",
       "    .dataframe tbody tr th:only-of-type {\n",
       "        vertical-align: middle;\n",
       "    }\n",
       "\n",
       "    .dataframe tbody tr th {\n",
       "        vertical-align: top;\n",
       "    }\n",
       "\n",
       "    .dataframe thead th {\n",
       "        text-align: right;\n",
       "    }\n",
       "</style>\n",
       "<table border=\"1\" class=\"dataframe\">\n",
       "  <thead>\n",
       "    <tr style=\"text-align: right;\">\n",
       "      <th></th>\n",
       "      <th>id</th>\n",
       "      <th>state</th>\n",
       "      <th>customer_lifetime_value</th>\n",
       "      <th>response</th>\n",
       "      <th>coverage</th>\n",
       "      <th>education</th>\n",
       "      <th>effective_to_date</th>\n",
       "      <th>employmentstatus</th>\n",
       "      <th>gender</th>\n",
       "      <th>income</th>\n",
       "      <th>...</th>\n",
       "      <th>months_since_last_claim</th>\n",
       "      <th>months_since_policy_inception</th>\n",
       "      <th>number_of_open_complaints</th>\n",
       "      <th>number_of_policies</th>\n",
       "      <th>policy_type</th>\n",
       "      <th>policy</th>\n",
       "      <th>renew_offer_type</th>\n",
       "      <th>sales_channel</th>\n",
       "      <th>vehicle_class</th>\n",
       "      <th>vehicle_size</th>\n",
       "    </tr>\n",
       "  </thead>\n",
       "  <tbody>\n",
       "    <tr>\n",
       "      <th>0</th>\n",
       "      <td>BU79786</td>\n",
       "      <td>Washington</td>\n",
       "      <td>2763.519279</td>\n",
       "      <td>No</td>\n",
       "      <td>Basic</td>\n",
       "      <td>Bachelor</td>\n",
       "      <td>2/24/11</td>\n",
       "      <td>Employed</td>\n",
       "      <td>F</td>\n",
       "      <td>56274</td>\n",
       "      <td>...</td>\n",
       "      <td>32</td>\n",
       "      <td>5</td>\n",
       "      <td>0</td>\n",
       "      <td>1</td>\n",
       "      <td>Corporate Auto</td>\n",
       "      <td>Corporate L3</td>\n",
       "      <td>Offer1</td>\n",
       "      <td>Agent</td>\n",
       "      <td>Two-Door Car</td>\n",
       "      <td>Medsize</td>\n",
       "    </tr>\n",
       "    <tr>\n",
       "      <th>1</th>\n",
       "      <td>QZ44356</td>\n",
       "      <td>Arizona</td>\n",
       "      <td>6979.535903</td>\n",
       "      <td>No</td>\n",
       "      <td>Extended</td>\n",
       "      <td>Bachelor</td>\n",
       "      <td>1/31/11</td>\n",
       "      <td>Unemployed</td>\n",
       "      <td>F</td>\n",
       "      <td>0</td>\n",
       "      <td>...</td>\n",
       "      <td>13</td>\n",
       "      <td>42</td>\n",
       "      <td>0</td>\n",
       "      <td>8</td>\n",
       "      <td>Personal Auto</td>\n",
       "      <td>Personal L3</td>\n",
       "      <td>Offer3</td>\n",
       "      <td>Agent</td>\n",
       "      <td>Four-Door Car</td>\n",
       "      <td>Medsize</td>\n",
       "    </tr>\n",
       "    <tr>\n",
       "      <th>2</th>\n",
       "      <td>AI49188</td>\n",
       "      <td>Nevada</td>\n",
       "      <td>12887.431650</td>\n",
       "      <td>No</td>\n",
       "      <td>Premium</td>\n",
       "      <td>Bachelor</td>\n",
       "      <td>2/19/11</td>\n",
       "      <td>Employed</td>\n",
       "      <td>F</td>\n",
       "      <td>48767</td>\n",
       "      <td>...</td>\n",
       "      <td>18</td>\n",
       "      <td>38</td>\n",
       "      <td>0</td>\n",
       "      <td>2</td>\n",
       "      <td>Personal Auto</td>\n",
       "      <td>Personal L3</td>\n",
       "      <td>Offer1</td>\n",
       "      <td>Agent</td>\n",
       "      <td>Two-Door Car</td>\n",
       "      <td>Medsize</td>\n",
       "    </tr>\n",
       "    <tr>\n",
       "      <th>3</th>\n",
       "      <td>WW63253</td>\n",
       "      <td>California</td>\n",
       "      <td>7645.861827</td>\n",
       "      <td>No</td>\n",
       "      <td>Basic</td>\n",
       "      <td>Bachelor</td>\n",
       "      <td>1/20/11</td>\n",
       "      <td>Unemployed</td>\n",
       "      <td>M</td>\n",
       "      <td>0</td>\n",
       "      <td>...</td>\n",
       "      <td>18</td>\n",
       "      <td>65</td>\n",
       "      <td>0</td>\n",
       "      <td>7</td>\n",
       "      <td>Corporate Auto</td>\n",
       "      <td>Corporate L2</td>\n",
       "      <td>Offer1</td>\n",
       "      <td>Call Center</td>\n",
       "      <td>SUV</td>\n",
       "      <td>Medsize</td>\n",
       "    </tr>\n",
       "    <tr>\n",
       "      <th>4</th>\n",
       "      <td>HB64268</td>\n",
       "      <td>Washington</td>\n",
       "      <td>2813.692575</td>\n",
       "      <td>No</td>\n",
       "      <td>Basic</td>\n",
       "      <td>Bachelor</td>\n",
       "      <td>2/3/11</td>\n",
       "      <td>Employed</td>\n",
       "      <td>M</td>\n",
       "      <td>43836</td>\n",
       "      <td>...</td>\n",
       "      <td>12</td>\n",
       "      <td>44</td>\n",
       "      <td>0</td>\n",
       "      <td>1</td>\n",
       "      <td>Personal Auto</td>\n",
       "      <td>Personal L1</td>\n",
       "      <td>Offer1</td>\n",
       "      <td>Agent</td>\n",
       "      <td>Four-Door Car</td>\n",
       "      <td>Medsize</td>\n",
       "    </tr>\n",
       "  </tbody>\n",
       "</table>\n",
       "<p>5 rows × 23 columns</p>\n",
       "</div>"
      ],
      "text/plain": [
       "        id       state  customer_lifetime_value response  coverage education  \\\n",
       "0  BU79786  Washington              2763.519279       No     Basic  Bachelor   \n",
       "1  QZ44356     Arizona              6979.535903       No  Extended  Bachelor   \n",
       "2  AI49188      Nevada             12887.431650       No   Premium  Bachelor   \n",
       "3  WW63253  California              7645.861827       No     Basic  Bachelor   \n",
       "4  HB64268  Washington              2813.692575       No     Basic  Bachelor   \n",
       "\n",
       "  effective_to_date employmentstatus gender  income  ...  \\\n",
       "0           2/24/11         Employed      F   56274  ...   \n",
       "1           1/31/11       Unemployed      F       0  ...   \n",
       "2           2/19/11         Employed      F   48767  ...   \n",
       "3           1/20/11       Unemployed      M       0  ...   \n",
       "4            2/3/11         Employed      M   43836  ...   \n",
       "\n",
       "  months_since_last_claim months_since_policy_inception  \\\n",
       "0                      32                             5   \n",
       "1                      13                            42   \n",
       "2                      18                            38   \n",
       "3                      18                            65   \n",
       "4                      12                            44   \n",
       "\n",
       "   number_of_open_complaints  number_of_policies     policy_type  \\\n",
       "0                          0                   1  Corporate Auto   \n",
       "1                          0                   8   Personal Auto   \n",
       "2                          0                   2   Personal Auto   \n",
       "3                          0                   7  Corporate Auto   \n",
       "4                          0                   1   Personal Auto   \n",
       "\n",
       "         policy  renew_offer_type sales_channel  vehicle_class vehicle_size  \n",
       "0  Corporate L3            Offer1         Agent   Two-Door Car      Medsize  \n",
       "1   Personal L3            Offer3         Agent  Four-Door Car      Medsize  \n",
       "2   Personal L3            Offer1         Agent   Two-Door Car      Medsize  \n",
       "3  Corporate L2            Offer1   Call Center            SUV      Medsize  \n",
       "4   Personal L1            Offer1         Agent  Four-Door Car      Medsize  \n",
       "\n",
       "[5 rows x 23 columns]"
      ]
     },
     "execution_count": 16,
     "metadata": {},
     "output_type": "execute_result"
    }
   ],
   "source": [
    "#separate the features from the labels\n",
    "y = data['total_claim_amount']\n",
    "X = data.drop(['total_claim_amount'], axis=1)\n",
    "X.head()"
   ]
  },
  {
   "cell_type": "markdown",
   "id": "edbc1e9f",
   "metadata": {},
   "source": [
    "  "
   ]
  },
  {
   "cell_type": "markdown",
   "id": "72dd5a81",
   "metadata": {},
   "source": [
    "5. Use the Train-test split to create the Train, and Test sets (make sure to set the random_state option to any integer number of your choice)."
   ]
  },
  {
   "cell_type": "code",
   "execution_count": 17,
   "id": "c9fb38b8",
   "metadata": {},
   "outputs": [
    {
     "data": {
      "text/html": [
       "<div>\n",
       "<style scoped>\n",
       "    .dataframe tbody tr th:only-of-type {\n",
       "        vertical-align: middle;\n",
       "    }\n",
       "\n",
       "    .dataframe tbody tr th {\n",
       "        vertical-align: top;\n",
       "    }\n",
       "\n",
       "    .dataframe thead th {\n",
       "        text-align: right;\n",
       "    }\n",
       "</style>\n",
       "<table border=\"1\" class=\"dataframe\">\n",
       "  <thead>\n",
       "    <tr style=\"text-align: right;\">\n",
       "      <th></th>\n",
       "      <th>count</th>\n",
       "      <th>mean</th>\n",
       "      <th>std</th>\n",
       "      <th>min</th>\n",
       "      <th>25%</th>\n",
       "      <th>50%</th>\n",
       "      <th>75%</th>\n",
       "      <th>max</th>\n",
       "    </tr>\n",
       "  </thead>\n",
       "  <tbody>\n",
       "    <tr>\n",
       "      <th>customer_lifetime_value</th>\n",
       "      <td>8704.0</td>\n",
       "      <td>7577.478745</td>\n",
       "      <td>6192.134004</td>\n",
       "      <td>1898.007675</td>\n",
       "      <td>3873.647046</td>\n",
       "      <td>5597.12496</td>\n",
       "      <td>8659.357603</td>\n",
       "      <td>57520.501510</td>\n",
       "    </tr>\n",
       "    <tr>\n",
       "      <th>income</th>\n",
       "      <td>8704.0</td>\n",
       "      <td>37669.705882</td>\n",
       "      <td>30463.877452</td>\n",
       "      <td>0.000000</td>\n",
       "      <td>0.000000</td>\n",
       "      <td>33806.00000</td>\n",
       "      <td>62399.250000</td>\n",
       "      <td>99981.000000</td>\n",
       "    </tr>\n",
       "    <tr>\n",
       "      <th>monthly_premium_auto</th>\n",
       "      <td>8704.0</td>\n",
       "      <td>87.591567</td>\n",
       "      <td>22.885502</td>\n",
       "      <td>61.000000</td>\n",
       "      <td>68.000000</td>\n",
       "      <td>80.00000</td>\n",
       "      <td>106.000000</td>\n",
       "      <td>170.000000</td>\n",
       "    </tr>\n",
       "    <tr>\n",
       "      <th>months_since_last_claim</th>\n",
       "      <td>8704.0</td>\n",
       "      <td>15.084444</td>\n",
       "      <td>10.058778</td>\n",
       "      <td>0.000000</td>\n",
       "      <td>6.000000</td>\n",
       "      <td>14.00000</td>\n",
       "      <td>23.000000</td>\n",
       "      <td>35.000000</td>\n",
       "    </tr>\n",
       "    <tr>\n",
       "      <th>months_since_policy_inception</th>\n",
       "      <td>8704.0</td>\n",
       "      <td>47.946921</td>\n",
       "      <td>27.941271</td>\n",
       "      <td>0.000000</td>\n",
       "      <td>24.000000</td>\n",
       "      <td>48.00000</td>\n",
       "      <td>71.000000</td>\n",
       "      <td>99.000000</td>\n",
       "    </tr>\n",
       "    <tr>\n",
       "      <th>number_of_open_complaints</th>\n",
       "      <td>8704.0</td>\n",
       "      <td>0.383272</td>\n",
       "      <td>0.910786</td>\n",
       "      <td>0.000000</td>\n",
       "      <td>0.000000</td>\n",
       "      <td>0.00000</td>\n",
       "      <td>0.000000</td>\n",
       "      <td>5.000000</td>\n",
       "    </tr>\n",
       "    <tr>\n",
       "      <th>number_of_policies</th>\n",
       "      <td>8704.0</td>\n",
       "      <td>2.965763</td>\n",
       "      <td>2.386184</td>\n",
       "      <td>1.000000</td>\n",
       "      <td>1.000000</td>\n",
       "      <td>2.00000</td>\n",
       "      <td>4.000000</td>\n",
       "      <td>9.000000</td>\n",
       "    </tr>\n",
       "    <tr>\n",
       "      <th>total_claim_amount</th>\n",
       "      <td>8704.0</td>\n",
       "      <td>402.705849</td>\n",
       "      <td>235.308985</td>\n",
       "      <td>0.099007</td>\n",
       "      <td>261.930545</td>\n",
       "      <td>369.60000</td>\n",
       "      <td>528.000000</td>\n",
       "      <td>1985.999807</td>\n",
       "    </tr>\n",
       "  </tbody>\n",
       "</table>\n",
       "</div>"
      ],
      "text/plain": [
       "                                count          mean           std  \\\n",
       "customer_lifetime_value        8704.0   7577.478745   6192.134004   \n",
       "income                         8704.0  37669.705882  30463.877452   \n",
       "monthly_premium_auto           8704.0     87.591567     22.885502   \n",
       "months_since_last_claim        8704.0     15.084444     10.058778   \n",
       "months_since_policy_inception  8704.0     47.946921     27.941271   \n",
       "number_of_open_complaints      8704.0      0.383272      0.910786   \n",
       "number_of_policies             8704.0      2.965763      2.386184   \n",
       "total_claim_amount             8704.0    402.705849    235.308985   \n",
       "\n",
       "                                       min          25%          50%  \\\n",
       "customer_lifetime_value        1898.007675  3873.647046   5597.12496   \n",
       "income                            0.000000     0.000000  33806.00000   \n",
       "monthly_premium_auto             61.000000    68.000000     80.00000   \n",
       "months_since_last_claim           0.000000     6.000000     14.00000   \n",
       "months_since_policy_inception     0.000000    24.000000     48.00000   \n",
       "number_of_open_complaints         0.000000     0.000000      0.00000   \n",
       "number_of_policies                1.000000     1.000000      2.00000   \n",
       "total_claim_amount                0.099007   261.930545    369.60000   \n",
       "\n",
       "                                        75%           max  \n",
       "customer_lifetime_value         8659.357603  57520.501510  \n",
       "income                         62399.250000  99981.000000  \n",
       "monthly_premium_auto             106.000000    170.000000  \n",
       "months_since_last_claim           23.000000     35.000000  \n",
       "months_since_policy_inception     71.000000     99.000000  \n",
       "number_of_open_complaints          0.000000      5.000000  \n",
       "number_of_policies                 4.000000      9.000000  \n",
       "total_claim_amount               528.000000   1985.999807  "
      ]
     },
     "execution_count": 17,
     "metadata": {},
     "output_type": "execute_result"
    }
   ],
   "source": [
    "data.describe().T"
   ]
  },
  {
   "cell_type": "code",
   "execution_count": 18,
   "id": "64b6f2db",
   "metadata": {},
   "outputs": [
    {
     "data": {
      "text/plain": [
       "(8704, 24)"
      ]
     },
     "execution_count": 18,
     "metadata": {},
     "output_type": "execute_result"
    }
   ],
   "source": [
    "data.shape"
   ]
  },
  {
   "cell_type": "code",
   "execution_count": 19,
   "id": "0cfb8a9a",
   "metadata": {},
   "outputs": [],
   "source": [
    "from sklearn.model_selection import train_test_split\n",
    "\n",
    "X_train, X_test, y_train, y_test = train_test_split(X, y, test_size=0.2, random_state=50)"
   ]
  },
  {
   "cell_type": "markdown",
   "id": "a2f0e839",
   "metadata": {},
   "source": [
    "  "
   ]
  },
  {
   "cell_type": "markdown",
   "id": "c05d2654",
   "metadata": {},
   "source": [
    "6. Use the pd.DataFrame() function to create new Pandas DataFrames from the X_train, and X_test Numpy arrays obtained in the previous step (make sure to use the columns= option to set the columns names to X.columns)."
   ]
  },
  {
   "cell_type": "code",
   "execution_count": 20,
   "id": "24ae0e7d",
   "metadata": {},
   "outputs": [],
   "source": [
    "X_train_df = pd.DataFrame(X_train, columns = X.columns)\n",
    "X_test_df  = pd.DataFrame(X_test,  columns = X.columns)"
   ]
  },
  {
   "cell_type": "code",
   "execution_count": 21,
   "id": "6cf00233",
   "metadata": {},
   "outputs": [
    {
     "data": {
      "text/plain": [
       "6963"
      ]
     },
     "metadata": {},
     "output_type": "display_data"
    },
    {
     "data": {
      "text/plain": [
       "1741"
      ]
     },
     "metadata": {},
     "output_type": "display_data"
    }
   ],
   "source": [
    "display(len(X_train_df))\n",
    "display(len(X_test_df))"
   ]
  },
  {
   "cell_type": "markdown",
   "id": "25d02a59",
   "metadata": {},
   "source": [
    "  "
   ]
  },
  {
   "cell_type": "markdown",
   "id": "d0d935f2",
   "metadata": {},
   "source": [
    "7.Split the X_train Pandas DataFrame into two: numerical, and categorical using df.select_dtypes()."
   ]
  },
  {
   "cell_type": "code",
   "execution_count": 22,
   "id": "2e80ad09",
   "metadata": {},
   "outputs": [],
   "source": [
    "# Divide categorical features and numerical ones\n",
    "X_train_df_num = X_train_df.select_dtypes(include = np.number)\n",
    "X_train_df_cat = X_train_df.select_dtypes(include = object)\n",
    "\n",
    "X_test_df_num = X_test_df.select_dtypes(include = np.number)\n",
    "X_test_df_cat = X_test_df.select_dtypes(include = object)"
   ]
  },
  {
   "cell_type": "markdown",
   "id": "1ace0b1f",
   "metadata": {},
   "source": [
    " "
   ]
  },
  {
   "cell_type": "markdown",
   "id": "def6ef45",
   "metadata": {},
   "source": [
    "8. If you need to transform any column, Train your transformers and/or scalers all the numerical columns using the .fit() only in the Train set (only one transformer/scaler for all the columns, check here, and here using the .transform()"
   ]
  },
  {
   "cell_type": "code",
   "execution_count": 23,
   "id": "99e43607",
   "metadata": {},
   "outputs": [
    {
     "data": {
      "text/plain": [
       "customer_lifetime_value          2.704704\n",
       "income                           0.279685\n",
       "monthly_premium_auto             0.761342\n",
       "months_since_last_claim          0.288459\n",
       "months_since_policy_inception    0.038598\n",
       "number_of_open_complaints        2.782952\n",
       "number_of_policies               1.260332\n",
       "dtype: float64"
      ]
     },
     "execution_count": 23,
     "metadata": {},
     "output_type": "execute_result"
    }
   ],
   "source": [
    "X_train_df_num.skew()"
   ]
  },
  {
   "cell_type": "code",
   "execution_count": 24,
   "id": "95c77bca",
   "metadata": {},
   "outputs": [
    {
     "data": {
      "text/plain": [
       "array([2, 0, 4, 1, 5, 3])"
      ]
     },
     "execution_count": 24,
     "metadata": {},
     "output_type": "execute_result"
    }
   ],
   "source": [
    "X_train_df_num['number_of_open_complaints'].unique()"
   ]
  },
  {
   "cell_type": "markdown",
   "id": "aad61c75",
   "metadata": {},
   "source": [
    "The 'customer_lifetime_value' and 'number_of_open_complaints' are skewed. So 'customer_lifetime_value' are transformed, while 'number_of_open_complaints' is remained because the unique values are only 5.  "
   ]
  },
  {
   "cell_type": "code",
   "execution_count": 25,
   "id": "b0297387",
   "metadata": {},
   "outputs": [
    {
     "data": {
      "image/png": "[encoded data removed]",
      "text/plain": [
       "<Figure size 360x360 with 1 Axes>"
      ]
     },
     "metadata": {
      "needs_background": "light"
     },
     "output_type": "display_data"
    }
   ],
   "source": [
    "from sklearn.preprocessing import PowerTransformer\n",
    "\n",
    "pt = PowerTransformer() \n",
    "pt.fit(X_train_df_num[['customer_lifetime_value']] )\n",
    "X_train_df_num['customer_lifetime_value'] = pt.transform(X_train_df_num[['customer_lifetime_value']])\n",
    "\n",
    "X_test_df_num['customer_lifetime_value'] = pt.transform(X_test_df_num[['customer_lifetime_value']])\n",
    "\n",
    "\n",
    "sns.displot(X_train_df_num['customer_lifetime_value'])\n",
    "plt.show()\n"
   ]
  },
  {
   "cell_type": "code",
   "execution_count": 28,
   "id": "7781abb1",
   "metadata": {},
   "outputs": [
    {
     "data": {
      "text/html": [
       "<div>\n",
       "<style scoped>\n",
       "    .dataframe tbody tr th:only-of-type {\n",
       "        vertical-align: middle;\n",
       "    }\n",
       "\n",
       "    .dataframe tbody tr th {\n",
       "        vertical-align: top;\n",
       "    }\n",
       "\n",
       "    .dataframe thead th {\n",
       "        text-align: right;\n",
       "    }\n",
       "</style>\n",
       "<table border=\"1\" class=\"dataframe\">\n",
       "  <thead>\n",
       "    <tr style=\"text-align: right;\">\n",
       "      <th></th>\n",
       "      <th>customer_lifetime_value</th>\n",
       "      <th>income</th>\n",
       "      <th>monthly_premium_auto</th>\n",
       "      <th>months_since_last_claim</th>\n",
       "      <th>months_since_policy_inception</th>\n",
       "      <th>number_of_open_complaints</th>\n",
       "      <th>number_of_policies</th>\n",
       "    </tr>\n",
       "  </thead>\n",
       "  <tbody>\n",
       "    <tr>\n",
       "      <th>0</th>\n",
       "      <td>0.949037</td>\n",
       "      <td>0.466052</td>\n",
       "      <td>0.532110</td>\n",
       "      <td>0.971429</td>\n",
       "      <td>0.747475</td>\n",
       "      <td>0.4</td>\n",
       "      <td>0.125</td>\n",
       "    </tr>\n",
       "    <tr>\n",
       "      <th>1</th>\n",
       "      <td>0.569877</td>\n",
       "      <td>0.000000</td>\n",
       "      <td>0.467890</td>\n",
       "      <td>0.342857</td>\n",
       "      <td>0.939394</td>\n",
       "      <td>0.0</td>\n",
       "      <td>0.250</td>\n",
       "    </tr>\n",
       "    <tr>\n",
       "      <th>2</th>\n",
       "      <td>0.205168</td>\n",
       "      <td>0.644561</td>\n",
       "      <td>0.119266</td>\n",
       "      <td>0.542857</td>\n",
       "      <td>0.494949</td>\n",
       "      <td>0.0</td>\n",
       "      <td>0.000</td>\n",
       "    </tr>\n",
       "    <tr>\n",
       "      <th>3</th>\n",
       "      <td>0.448955</td>\n",
       "      <td>0.759926</td>\n",
       "      <td>0.073394</td>\n",
       "      <td>0.114286</td>\n",
       "      <td>0.232323</td>\n",
       "      <td>0.0</td>\n",
       "      <td>0.750</td>\n",
       "    </tr>\n",
       "    <tr>\n",
       "      <th>4</th>\n",
       "      <td>0.455429</td>\n",
       "      <td>0.000000</td>\n",
       "      <td>0.844037</td>\n",
       "      <td>0.714286</td>\n",
       "      <td>0.050505</td>\n",
       "      <td>0.0</td>\n",
       "      <td>0.000</td>\n",
       "    </tr>\n",
       "  </tbody>\n",
       "</table>\n",
       "</div>"
      ],
      "text/plain": [
       "   customer_lifetime_value    income  monthly_premium_auto  \\\n",
       "0                 0.949037  0.466052              0.532110   \n",
       "1                 0.569877  0.000000              0.467890   \n",
       "2                 0.205168  0.644561              0.119266   \n",
       "3                 0.448955  0.759926              0.073394   \n",
       "4                 0.455429  0.000000              0.844037   \n",
       "\n",
       "   months_since_last_claim  months_since_policy_inception  \\\n",
       "0                 0.971429                       0.747475   \n",
       "1                 0.342857                       0.939394   \n",
       "2                 0.542857                       0.494949   \n",
       "3                 0.114286                       0.232323   \n",
       "4                 0.714286                       0.050505   \n",
       "\n",
       "   number_of_open_complaints  number_of_policies  \n",
       "0                        0.4               0.125  \n",
       "1                        0.0               0.250  \n",
       "2                        0.0               0.000  \n",
       "3                        0.0               0.750  \n",
       "4                        0.0               0.000  "
      ]
     },
     "execution_count": 28,
     "metadata": {},
     "output_type": "execute_result"
    }
   ],
   "source": [
    "from sklearn.preprocessing import MinMaxScaler # Sets for each colum the minimum = 0 and the maximum = 1\n",
    "\n",
    "scaler = MinMaxScaler()\n",
    "\n",
    "scaler.fit(X_train_df_num) # fit() Determine the min and the max of each column in the TRAIN set\n",
    "\n",
    "\n",
    "\n",
    "X_train_scaled = scaler.transform(X_train_df_num) # .transform() applies the transformation x_normalized will be np.array\n",
    "X_test_scaled  = scaler.transform(X_test_df_num) # .transform() applies the transformation x_normalized will be np.array\n",
    "\n",
    "# We create new Pandas DataFrames out of the Numpy arrays.\n",
    "\n",
    "X_train_scaled_df = pd.DataFrame(X_train_scaled, columns=X_train_df_num.columns)\n",
    "X_test_scaled_df  = pd.DataFrame(X_test_scaled,  columns=X_train_df_num.columns)\n",
    "\n",
    "X_train_scaled_df.head()"
   ]
  },
  {
   "cell_type": "markdown",
   "id": "8a67e798",
   "metadata": {},
   "source": [
    "  "
   ]
  },
  {
   "cell_type": "markdown",
   "id": "ffc0ff9c",
   "metadata": {},
   "source": [
    "9.Save all your transformers/scalers right after the .fit() using pickle using the code shown below"
   ]
  },
  {
   "cell_type": "code",
   "execution_count": 29,
   "id": "459b8011",
   "metadata": {},
   "outputs": [],
   "source": [
    "import os\n",
    "import pickle\n",
    "\n",
    "path = \"transformers/\"\n",
    "# Check whether the specified path exists or not\n",
    "isExist = os.path.exists(path)\n",
    "if not isExist:\n",
    "    # Create a new directory because it does not exist\n",
    "    os.makedirs(path)\n",
    "    print(\"The new directory is created!\")\n",
    "\n",
    "filename = \"min_max_scaler3.pkl\" # Use a descriptive name for your scaler/transformer but keep the \".pkl\" file extension\n",
    "with open(path+filename, \"wb\") as file:\n",
    "  pickle.dump(scaler, file) # Replace \"variable\" with the name of the variable that contains your transformer\n",
    "\n"
   ]
  },
  {
   "cell_type": "markdown",
   "id": "bb524ab9",
   "metadata": {},
   "source": [
    "  "
   ]
  },
  {
   "cell_type": "markdown",
   "id": "ade17e26",
   "metadata": {},
   "source": [
    "10.If you used a transformer/scaler in the previous step, create new Pandas DataFrames from the Numpy arrays generated by the .transform() using the pd.DataFrame() function as you did earlier with the Numpy arrays generated by the train_test_split() function."
   ]
  },
  {
   "cell_type": "code",
   "execution_count": 30,
   "id": "5665b077",
   "metadata": {},
   "outputs": [
    {
     "data": {
      "text/html": [
       "<div>\n",
       "<style scoped>\n",
       "    .dataframe tbody tr th:only-of-type {\n",
       "        vertical-align: middle;\n",
       "    }\n",
       "\n",
       "    .dataframe tbody tr th {\n",
       "        vertical-align: top;\n",
       "    }\n",
       "\n",
       "    .dataframe thead th {\n",
       "        text-align: right;\n",
       "    }\n",
       "</style>\n",
       "<table border=\"1\" class=\"dataframe\">\n",
       "  <thead>\n",
       "    <tr style=\"text-align: right;\">\n",
       "      <th></th>\n",
       "      <th>customer_lifetime_value</th>\n",
       "      <th>income</th>\n",
       "      <th>monthly_premium_auto</th>\n",
       "      <th>months_since_last_claim</th>\n",
       "      <th>months_since_policy_inception</th>\n",
       "      <th>number_of_open_complaints</th>\n",
       "      <th>number_of_policies</th>\n",
       "    </tr>\n",
       "  </thead>\n",
       "  <tbody>\n",
       "    <tr>\n",
       "      <th>0</th>\n",
       "      <td>0.101245</td>\n",
       "      <td>0.215724</td>\n",
       "      <td>0.000000</td>\n",
       "      <td>0.314286</td>\n",
       "      <td>0.616162</td>\n",
       "      <td>0.0</td>\n",
       "      <td>0.000</td>\n",
       "    </tr>\n",
       "    <tr>\n",
       "      <th>1</th>\n",
       "      <td>0.805670</td>\n",
       "      <td>0.637799</td>\n",
       "      <td>0.009174</td>\n",
       "      <td>0.800000</td>\n",
       "      <td>0.404040</td>\n",
       "      <td>0.0</td>\n",
       "      <td>0.125</td>\n",
       "    </tr>\n",
       "  </tbody>\n",
       "</table>\n",
       "</div>"
      ],
      "text/plain": [
       "   customer_lifetime_value    income  monthly_premium_auto  \\\n",
       "0                 0.101245  0.215724              0.000000   \n",
       "1                 0.805670  0.637799              0.009174   \n",
       "\n",
       "   months_since_last_claim  months_since_policy_inception  \\\n",
       "0                 0.314286                       0.616162   \n",
       "1                 0.800000                       0.404040   \n",
       "\n",
       "   number_of_open_complaints  number_of_policies  \n",
       "0                        0.0               0.000  \n",
       "1                        0.0               0.125  "
      ]
     },
     "execution_count": 30,
     "metadata": {},
     "output_type": "execute_result"
    }
   ],
   "source": [
    "X_train_transformed_df = pd.DataFrame(X_train_scaled_df, columns=X_train_df_num.columns)\n",
    "X_test_transformed_df  = pd.DataFrame(X_test_scaled_df,  columns=X_train_df_num.columns)\n",
    "\n",
    "X_test_transformed_df.head(2)"
   ]
  },
  {
   "cell_type": "markdown",
   "id": "82fafb09",
   "metadata": {},
   "source": [
    "  "
   ]
  },
  {
   "cell_type": "markdown",
   "id": "ea5d7ebd",
   "metadata": {},
   "source": [
    "11. Transform the categorical columns into numbers"
   ]
  },
  {
   "cell_type": "code",
   "execution_count": 31,
   "id": "f386e928",
   "metadata": {},
   "outputs": [
    {
     "data": {
      "text/html": [
       "<div>\n",
       "<style scoped>\n",
       "    .dataframe tbody tr th:only-of-type {\n",
       "        vertical-align: middle;\n",
       "    }\n",
       "\n",
       "    .dataframe tbody tr th {\n",
       "        vertical-align: top;\n",
       "    }\n",
       "\n",
       "    .dataframe thead th {\n",
       "        text-align: right;\n",
       "    }\n",
       "</style>\n",
       "<table border=\"1\" class=\"dataframe\">\n",
       "  <thead>\n",
       "    <tr style=\"text-align: right;\">\n",
       "      <th></th>\n",
       "      <th>id</th>\n",
       "      <th>state</th>\n",
       "      <th>response</th>\n",
       "      <th>coverage</th>\n",
       "      <th>education</th>\n",
       "      <th>effective_to_date</th>\n",
       "      <th>employmentstatus</th>\n",
       "      <th>gender</th>\n",
       "      <th>location_code</th>\n",
       "      <th>marital_status</th>\n",
       "      <th>policy_type</th>\n",
       "      <th>policy</th>\n",
       "      <th>renew_offer_type</th>\n",
       "      <th>sales_channel</th>\n",
       "      <th>vehicle_class</th>\n",
       "      <th>vehicle_size</th>\n",
       "    </tr>\n",
       "  </thead>\n",
       "  <tbody>\n",
       "    <tr>\n",
       "      <th>8879</th>\n",
       "      <td>MN83273</td>\n",
       "      <td>California</td>\n",
       "      <td>Yes</td>\n",
       "      <td>Premium</td>\n",
       "      <td>High School or Below</td>\n",
       "      <td>1/31/11</td>\n",
       "      <td>Employed</td>\n",
       "      <td>F</td>\n",
       "      <td>Suburban</td>\n",
       "      <td>Divorced</td>\n",
       "      <td>Personal Auto</td>\n",
       "      <td>Personal L3</td>\n",
       "      <td>Offer1</td>\n",
       "      <td>Call Center</td>\n",
       "      <td>Four-Door Car</td>\n",
       "      <td>Medsize</td>\n",
       "    </tr>\n",
       "  </tbody>\n",
       "</table>\n",
       "</div>"
      ],
      "text/plain": [
       "           id       state response coverage             education  \\\n",
       "8879  MN83273  California      Yes  Premium  High School or Below   \n",
       "\n",
       "     effective_to_date employmentstatus gender location_code marital_status  \\\n",
       "8879           1/31/11         Employed      F      Suburban       Divorced   \n",
       "\n",
       "        policy_type       policy renew_offer_type sales_channel  \\\n",
       "8879  Personal Auto  Personal L3           Offer1   Call Center   \n",
       "\n",
       "      vehicle_class vehicle_size  \n",
       "8879  Four-Door Car      Medsize  "
      ]
     },
     "execution_count": 31,
     "metadata": {},
     "output_type": "execute_result"
    }
   ],
   "source": [
    "X_train_df_cat.head(1)"
   ]
  },
  {
   "cell_type": "code",
   "execution_count": 32,
   "id": "a05e2093",
   "metadata": {},
   "outputs": [
    {
     "data": {
      "text/plain": [
       "array(['Yes', 'No'], dtype=object)"
      ]
     },
     "execution_count": 32,
     "metadata": {},
     "output_type": "execute_result"
    }
   ],
   "source": [
    "X_train_df_cat['response'].unique()"
   ]
  },
  {
   "cell_type": "code",
   "execution_count": 33,
   "id": "fa9a55a3",
   "metadata": {},
   "outputs": [],
   "source": [
    "from sklearn.preprocessing import OneHotEncoder\n",
    "from sklearn.compose import make_column_transformer\n",
    "from seaborn import load_dataset"
   ]
  },
  {
   "cell_type": "code",
   "execution_count": 34,
   "id": "1c61993c",
   "metadata": {},
   "outputs": [
    {
     "name": "stderr",
     "output_type": "stream",
     "text": [
      "/Users/soichirotanabe/opt/anaconda3/lib/python3.9/site-packages/sklearn/utils/deprecation.py:87: FutureWarning: Function get_feature_names is deprecated; get_feature_names is deprecated in 1.0 and will be removed in 1.2. Please use get_feature_names_out instead.\n",
      "  warnings.warn(msg, category=FutureWarning)\n",
      "/Users/soichirotanabe/opt/anaconda3/lib/python3.9/site-packages/sklearn/utils/deprecation.py:87: FutureWarning: Function get_feature_names is deprecated; get_feature_names is deprecated in 1.0 and will be removed in 1.2. Please use get_feature_names_out instead.\n",
      "  warnings.warn(msg, category=FutureWarning)\n"
     ]
    },
    {
     "data": {
      "text/html": [
       "<div>\n",
       "<style scoped>\n",
       "    .dataframe tbody tr th:only-of-type {\n",
       "        vertical-align: middle;\n",
       "    }\n",
       "\n",
       "    .dataframe tbody tr th {\n",
       "        vertical-align: top;\n",
       "    }\n",
       "\n",
       "    .dataframe thead th {\n",
       "        text-align: right;\n",
       "    }\n",
       "</style>\n",
       "<table border=\"1\" class=\"dataframe\">\n",
       "  <thead>\n",
       "    <tr style=\"text-align: right;\">\n",
       "      <th></th>\n",
       "      <th>state_Arizona</th>\n",
       "      <th>state_California</th>\n",
       "      <th>state_Nevada</th>\n",
       "      <th>state_Oregon</th>\n",
       "      <th>state_Washington</th>\n",
       "      <th>response_No</th>\n",
       "      <th>response_Yes</th>\n",
       "      <th>employmentstatus_Disabled</th>\n",
       "      <th>employmentstatus_Employed</th>\n",
       "      <th>employmentstatus_Medical Leave</th>\n",
       "      <th>...</th>\n",
       "      <th>marital_status_Divorced</th>\n",
       "      <th>marital_status_Married</th>\n",
       "      <th>marital_status_Single</th>\n",
       "      <th>policy_type_Corporate Auto</th>\n",
       "      <th>policy_type_Personal Auto</th>\n",
       "      <th>policy_type_Special Auto</th>\n",
       "      <th>sales_channel_Agent</th>\n",
       "      <th>sales_channel_Branch</th>\n",
       "      <th>sales_channel_Call Center</th>\n",
       "      <th>sales_channel_Web</th>\n",
       "    </tr>\n",
       "  </thead>\n",
       "  <tbody>\n",
       "    <tr>\n",
       "      <th>0</th>\n",
       "      <td>0.0</td>\n",
       "      <td>1.0</td>\n",
       "      <td>0.0</td>\n",
       "      <td>0.0</td>\n",
       "      <td>0.0</td>\n",
       "      <td>1.0</td>\n",
       "      <td>0.0</td>\n",
       "      <td>1.0</td>\n",
       "      <td>0.0</td>\n",
       "      <td>0.0</td>\n",
       "      <td>...</td>\n",
       "      <td>0.0</td>\n",
       "      <td>1.0</td>\n",
       "      <td>0.0</td>\n",
       "      <td>1.0</td>\n",
       "      <td>0.0</td>\n",
       "      <td>0.0</td>\n",
       "      <td>0.0</td>\n",
       "      <td>0.0</td>\n",
       "      <td>1.0</td>\n",
       "      <td>0.0</td>\n",
       "    </tr>\n",
       "    <tr>\n",
       "      <th>1</th>\n",
       "      <td>0.0</td>\n",
       "      <td>1.0</td>\n",
       "      <td>0.0</td>\n",
       "      <td>0.0</td>\n",
       "      <td>0.0</td>\n",
       "      <td>1.0</td>\n",
       "      <td>0.0</td>\n",
       "      <td>0.0</td>\n",
       "      <td>1.0</td>\n",
       "      <td>0.0</td>\n",
       "      <td>...</td>\n",
       "      <td>0.0</td>\n",
       "      <td>1.0</td>\n",
       "      <td>0.0</td>\n",
       "      <td>0.0</td>\n",
       "      <td>1.0</td>\n",
       "      <td>0.0</td>\n",
       "      <td>0.0</td>\n",
       "      <td>0.0</td>\n",
       "      <td>0.0</td>\n",
       "      <td>1.0</td>\n",
       "    </tr>\n",
       "    <tr>\n",
       "      <th>2</th>\n",
       "      <td>0.0</td>\n",
       "      <td>1.0</td>\n",
       "      <td>0.0</td>\n",
       "      <td>0.0</td>\n",
       "      <td>0.0</td>\n",
       "      <td>1.0</td>\n",
       "      <td>0.0</td>\n",
       "      <td>1.0</td>\n",
       "      <td>0.0</td>\n",
       "      <td>0.0</td>\n",
       "      <td>...</td>\n",
       "      <td>1.0</td>\n",
       "      <td>0.0</td>\n",
       "      <td>0.0</td>\n",
       "      <td>0.0</td>\n",
       "      <td>1.0</td>\n",
       "      <td>0.0</td>\n",
       "      <td>1.0</td>\n",
       "      <td>0.0</td>\n",
       "      <td>0.0</td>\n",
       "      <td>0.0</td>\n",
       "    </tr>\n",
       "    <tr>\n",
       "      <th>3</th>\n",
       "      <td>1.0</td>\n",
       "      <td>0.0</td>\n",
       "      <td>0.0</td>\n",
       "      <td>0.0</td>\n",
       "      <td>0.0</td>\n",
       "      <td>1.0</td>\n",
       "      <td>0.0</td>\n",
       "      <td>0.0</td>\n",
       "      <td>1.0</td>\n",
       "      <td>0.0</td>\n",
       "      <td>...</td>\n",
       "      <td>0.0</td>\n",
       "      <td>1.0</td>\n",
       "      <td>0.0</td>\n",
       "      <td>1.0</td>\n",
       "      <td>0.0</td>\n",
       "      <td>0.0</td>\n",
       "      <td>0.0</td>\n",
       "      <td>1.0</td>\n",
       "      <td>0.0</td>\n",
       "      <td>0.0</td>\n",
       "    </tr>\n",
       "    <tr>\n",
       "      <th>4</th>\n",
       "      <td>0.0</td>\n",
       "      <td>0.0</td>\n",
       "      <td>0.0</td>\n",
       "      <td>1.0</td>\n",
       "      <td>0.0</td>\n",
       "      <td>1.0</td>\n",
       "      <td>0.0</td>\n",
       "      <td>0.0</td>\n",
       "      <td>1.0</td>\n",
       "      <td>0.0</td>\n",
       "      <td>...</td>\n",
       "      <td>0.0</td>\n",
       "      <td>1.0</td>\n",
       "      <td>0.0</td>\n",
       "      <td>0.0</td>\n",
       "      <td>1.0</td>\n",
       "      <td>0.0</td>\n",
       "      <td>0.0</td>\n",
       "      <td>1.0</td>\n",
       "      <td>0.0</td>\n",
       "      <td>0.0</td>\n",
       "    </tr>\n",
       "  </tbody>\n",
       "</table>\n",
       "<p>5 rows × 24 columns</p>\n",
       "</div>"
      ],
      "text/plain": [
       "   state_Arizona  state_California  state_Nevada  state_Oregon  \\\n",
       "0            0.0               1.0           0.0           0.0   \n",
       "1            0.0               1.0           0.0           0.0   \n",
       "2            0.0               1.0           0.0           0.0   \n",
       "3            1.0               0.0           0.0           0.0   \n",
       "4            0.0               0.0           0.0           1.0   \n",
       "\n",
       "   state_Washington  response_No  response_Yes  employmentstatus_Disabled  \\\n",
       "0               0.0          1.0           0.0                        1.0   \n",
       "1               0.0          1.0           0.0                        0.0   \n",
       "2               0.0          1.0           0.0                        1.0   \n",
       "3               0.0          1.0           0.0                        0.0   \n",
       "4               0.0          1.0           0.0                        0.0   \n",
       "\n",
       "   employmentstatus_Employed  employmentstatus_Medical Leave  ...  \\\n",
       "0                        0.0                             0.0  ...   \n",
       "1                        1.0                             0.0  ...   \n",
       "2                        0.0                             0.0  ...   \n",
       "3                        1.0                             0.0  ...   \n",
       "4                        1.0                             0.0  ...   \n",
       "\n",
       "   marital_status_Divorced  marital_status_Married  marital_status_Single  \\\n",
       "0                      0.0                     1.0                    0.0   \n",
       "1                      0.0                     1.0                    0.0   \n",
       "2                      1.0                     0.0                    0.0   \n",
       "3                      0.0                     1.0                    0.0   \n",
       "4                      0.0                     1.0                    0.0   \n",
       "\n",
       "   policy_type_Corporate Auto  policy_type_Personal Auto  \\\n",
       "0                         1.0                        0.0   \n",
       "1                         0.0                        1.0   \n",
       "2                         0.0                        1.0   \n",
       "3                         1.0                        0.0   \n",
       "4                         0.0                        1.0   \n",
       "\n",
       "   policy_type_Special Auto  sales_channel_Agent  sales_channel_Branch  \\\n",
       "0                       0.0                  0.0                   0.0   \n",
       "1                       0.0                  0.0                   0.0   \n",
       "2                       0.0                  1.0                   0.0   \n",
       "3                       0.0                  0.0                   1.0   \n",
       "4                       0.0                  0.0                   1.0   \n",
       "\n",
       "   sales_channel_Call Center  sales_channel_Web  \n",
       "0                        1.0                0.0  \n",
       "1                        0.0                1.0  \n",
       "2                        0.0                0.0  \n",
       "3                        0.0                0.0  \n",
       "4                        0.0                0.0  \n",
       "\n",
       "[5 rows x 24 columns]"
      ]
     },
     "execution_count": 34,
     "metadata": {},
     "output_type": "execute_result"
    }
   ],
   "source": [
    "# Select the \"gender\" column\n",
    "multiple_column_train = X_train_df_cat[['state', 'response', 'employmentstatus','gender', 'marital_status', 'policy_type', 'sales_channel']]\n",
    "multiple_column_test = X_test_df_cat[['state', 'response', 'employmentstatus','gender', 'marital_status', 'policy_type', 'sales_channel']]\n",
    "\n",
    "\n",
    "# Initialize the OneHotEncoder\n",
    "encoder = OneHotEncoder()\n",
    "\n",
    "\n",
    "# Fit and transform the gender column\n",
    "encoder.fit(multiple_column_train)\n",
    "\n",
    "encoded_data_test = encoder.fit_transform(multiple_column_test)\n",
    "encoded_data_train = encoder.fit_transform(multiple_column_train)\n",
    "\n",
    "# Convert the encoded data to a DataFrame\n",
    "encoded_df_train = pd.DataFrame(encoded_data_train.toarray(), columns=encoder.get_feature_names(['state', 'response', 'employmentstatus','gender', 'marital_status', 'policy_type', 'sales_channel']))\n",
    "encoded_df_test = pd.DataFrame(encoded_data_test.toarray(), columns=encoder.get_feature_names(['state', 'response', 'employmentstatus','gender', 'marital_status', 'policy_type', 'sales_channel']))\n",
    "\n",
    "# Print the encoded DataFrame\n",
    "encoded_df_test.head()"
   ]
  },
  {
   "cell_type": "code",
   "execution_count": 35,
   "id": "537149b0",
   "metadata": {},
   "outputs": [],
   "source": [
    "#save \n",
    "path = \"encoders/\"\n",
    "# Check whether the specified path exists or not\n",
    "isExist = os.path.exists(path)\n",
    "if not isExist:\n",
    "  # Create a new directory because it does not exist\n",
    "  os.makedirs(path)\n",
    "  print(\"The new directory is created!\")\n",
    "\n",
    "filename = \"categorical_nomina13.pkl\" # use a descriptive name for your encoder but keep the \".pkl\" file extension\n",
    "with open(path+filename, \"wb\") as file:\n",
    "   pickle.dump(OneHotEncoder, file) # Replace \"variable\" with the name of the variable that contains your transformer\n"
   ]
  },
  {
   "cell_type": "code",
   "execution_count": 36,
   "id": "811c726c",
   "metadata": {},
   "outputs": [
    {
     "data": {
      "text/plain": [
       "array(['High School or Below', 'Bachelor', 'College', 'Doctor', 'Master'],\n",
       "      dtype=object)"
      ]
     },
     "execution_count": 36,
     "metadata": {},
     "output_type": "execute_result"
    }
   ],
   "source": [
    "#categorical ordinal column\n",
    "#change 'education'\n",
    "X_train_df_cat['education'].unique()"
   ]
  },
  {
   "cell_type": "code",
   "execution_count": 37,
   "id": "20575383",
   "metadata": {},
   "outputs": [],
   "source": [
    "edu = {'High School or Below': 1, 'Bachelor' : 2, 'College' : 3, 'Doctor': 4, 'Master' : 5}\n",
    "X_train_df_cat[\"education\"] = X_train_df_cat[\"education\"].apply(lambda x: edu[x] )\n",
    "\n",
    "X_test_df_cat[\"education\"] = X_test_df_cat[\"education\"].apply(lambda x: edu[x] )\n",
    "\n",
    "#X_train_df_cat[\"education\"].head(3)"
   ]
  },
  {
   "cell_type": "code",
   "execution_count": 38,
   "id": "b7bd18b0",
   "metadata": {},
   "outputs": [
    {
     "data": {
      "text/plain": [
       "<bound method Series.info of 8879    1\n",
       "5515    1\n",
       "6487    2\n",
       "7702    3\n",
       "4016    1\n",
       "       ..\n",
       "8673    3\n",
       "6527    3\n",
       "8738    5\n",
       "6568    3\n",
       "5886    1\n",
       "Name: education, Length: 6963, dtype: int64>"
      ]
     },
     "execution_count": 38,
     "metadata": {},
     "output_type": "execute_result"
    }
   ],
   "source": [
    "X_train_df_cat[\"education\"].info"
   ]
  },
  {
   "cell_type": "code",
   "execution_count": 39,
   "id": "73234f47",
   "metadata": {},
   "outputs": [
    {
     "data": {
      "text/plain": [
       "array(['Four-Door Car', 'Sports Car', 'Two-Door Car', 'SUV'], dtype=object)"
      ]
     },
     "execution_count": 39,
     "metadata": {},
     "output_type": "execute_result"
    }
   ],
   "source": [
    "#change vehicle_class\n",
    "X_train_df_cat['vehicle_class'].unique()"
   ]
  },
  {
   "cell_type": "code",
   "execution_count": 40,
   "id": "4bdafaef",
   "metadata": {},
   "outputs": [
    {
     "data": {
      "text/plain": [
       "array([2, 4, 1, 3])"
      ]
     },
     "execution_count": 40,
     "metadata": {},
     "output_type": "execute_result"
    }
   ],
   "source": [
    "V_class = {'Four-Door Car' : 2, 'Sports Car': 4, 'Two-Door Car' : 1, 'SUV': 3}\n",
    "X_train_df_cat[\"vehicle_class\"] = X_train_df_cat[\"vehicle_class\"].apply(lambda x: V_class[x] )\n",
    "X_test_df_cat[\"vehicle_class\"] = X_test_df_cat[\"vehicle_class\"].apply(lambda x: V_class[x] )\n",
    "\n",
    "X_train_df_cat[\"vehicle_class\"].unique()"
   ]
  },
  {
   "cell_type": "code",
   "execution_count": 41,
   "id": "9f1b38dd",
   "metadata": {},
   "outputs": [
    {
     "data": {
      "text/plain": [
       "array(['Medsize', 'Small', 'Large'], dtype=object)"
      ]
     },
     "execution_count": 41,
     "metadata": {},
     "output_type": "execute_result"
    }
   ],
   "source": [
    "#change vehicle_size\n",
    "X_train_df_cat['vehicle_size'].unique()"
   ]
  },
  {
   "cell_type": "code",
   "execution_count": 42,
   "id": "1f1e7359",
   "metadata": {},
   "outputs": [
    {
     "data": {
      "text/plain": [
       "array([2, 1, 3])"
      ]
     },
     "execution_count": 42,
     "metadata": {},
     "output_type": "execute_result"
    }
   ],
   "source": [
    "V_size = {'Medsize' : 2, 'Small': 1, 'Large' : 3}\n",
    "X_train_df_cat[\"vehicle_size\"] = X_train_df_cat[\"vehicle_size\"].apply(lambda x: V_size[x] )\n",
    "X_test_df_cat[\"vehicle_size\"] = X_test_df_cat[\"vehicle_size\"].apply(lambda x: V_size[x] )\n",
    "\n",
    "X_train_df_cat[\"vehicle_size\"].unique()"
   ]
  },
  {
   "cell_type": "markdown",
   "id": "fa3d720e",
   "metadata": {},
   "source": [
    " "
   ]
  },
  {
   "cell_type": "markdown",
   "id": "f763e655",
   "metadata": {},
   "source": [
    "12. Concat numerical_transformer and categorical_transfomed DataFrames using pd.concat()."
   ]
  },
  {
   "cell_type": "code",
   "execution_count": 43,
   "id": "898a674d",
   "metadata": {},
   "outputs": [
    {
     "data": {
      "text/plain": [
       "6963"
      ]
     },
     "execution_count": 43,
     "metadata": {},
     "output_type": "execute_result"
    }
   ],
   "source": [
    "#check\n",
    "len(X_train_df_num)"
   ]
  },
  {
   "cell_type": "code",
   "execution_count": 44,
   "id": "adfb8ab3",
   "metadata": {},
   "outputs": [],
   "source": [
    "num_without_index_train = X_train_transformed_df.reset_index(drop=True)\n",
    "num_without_index_test = X_test_transformed_df.reset_index(drop=True)"
   ]
  },
  {
   "cell_type": "code",
   "execution_count": 45,
   "id": "8ec08f5a",
   "metadata": {},
   "outputs": [],
   "source": [
    "cat_without_index_train = encoded_df_train.reset_index(drop=True)\n",
    "cat_without_index_test = encoded_df_test.reset_index(drop=True)"
   ]
  },
  {
   "cell_type": "code",
   "execution_count": 46,
   "id": "eaf4deb0",
   "metadata": {},
   "outputs": [],
   "source": [
    "Size = X_train_df_cat[\"vehicle_size\"].reset_index(drop=True)\n",
    "Class = X_train_df_cat[\"vehicle_class\"].reset_index(drop=True)\n",
    "Education = X_train_df_cat[\"education\"].reset_index(drop=True)\n",
    "\n",
    "Size_test = X_test_df_cat[\"vehicle_size\"].reset_index(drop=True)\n",
    "Class_test = X_test_df_cat[\"vehicle_class\"].reset_index(drop=True)\n",
    "Education_test = X_test_df_cat[\"education\"].reset_index(drop=True)"
   ]
  },
  {
   "cell_type": "code",
   "execution_count": 48,
   "id": "94fd8233",
   "metadata": {},
   "outputs": [
    {
     "data": {
      "text/html": [
       "<div>\n",
       "<style scoped>\n",
       "    .dataframe tbody tr th:only-of-type {\n",
       "        vertical-align: middle;\n",
       "    }\n",
       "\n",
       "    .dataframe tbody tr th {\n",
       "        vertical-align: top;\n",
       "    }\n",
       "\n",
       "    .dataframe thead th {\n",
       "        text-align: right;\n",
       "    }\n",
       "</style>\n",
       "<table border=\"1\" class=\"dataframe\">\n",
       "  <thead>\n",
       "    <tr style=\"text-align: right;\">\n",
       "      <th></th>\n",
       "      <th>customer_lifetime_value</th>\n",
       "      <th>income</th>\n",
       "      <th>monthly_premium_auto</th>\n",
       "      <th>months_since_last_claim</th>\n",
       "      <th>months_since_policy_inception</th>\n",
       "      <th>number_of_open_complaints</th>\n",
       "      <th>number_of_policies</th>\n",
       "      <th>state_Arizona</th>\n",
       "      <th>state_California</th>\n",
       "      <th>state_Nevada</th>\n",
       "      <th>...</th>\n",
       "      <th>policy_type_Corporate Auto</th>\n",
       "      <th>policy_type_Personal Auto</th>\n",
       "      <th>policy_type_Special Auto</th>\n",
       "      <th>sales_channel_Agent</th>\n",
       "      <th>sales_channel_Branch</th>\n",
       "      <th>sales_channel_Call Center</th>\n",
       "      <th>sales_channel_Web</th>\n",
       "      <th>vehicle_size</th>\n",
       "      <th>vehicle_class</th>\n",
       "      <th>education</th>\n",
       "    </tr>\n",
       "  </thead>\n",
       "  <tbody>\n",
       "    <tr>\n",
       "      <th>0</th>\n",
       "      <td>0.949037</td>\n",
       "      <td>0.466052</td>\n",
       "      <td>0.53211</td>\n",
       "      <td>0.971429</td>\n",
       "      <td>0.747475</td>\n",
       "      <td>0.4</td>\n",
       "      <td>0.125</td>\n",
       "      <td>0.0</td>\n",
       "      <td>1.0</td>\n",
       "      <td>0.0</td>\n",
       "      <td>...</td>\n",
       "      <td>0.0</td>\n",
       "      <td>1.0</td>\n",
       "      <td>0.0</td>\n",
       "      <td>0.0</td>\n",
       "      <td>0.0</td>\n",
       "      <td>1.0</td>\n",
       "      <td>0.0</td>\n",
       "      <td>2</td>\n",
       "      <td>2</td>\n",
       "      <td>1</td>\n",
       "    </tr>\n",
       "    <tr>\n",
       "      <th>1</th>\n",
       "      <td>0.569877</td>\n",
       "      <td>0.000000</td>\n",
       "      <td>0.46789</td>\n",
       "      <td>0.342857</td>\n",
       "      <td>0.939394</td>\n",
       "      <td>0.0</td>\n",
       "      <td>0.250</td>\n",
       "      <td>0.0</td>\n",
       "      <td>0.0</td>\n",
       "      <td>0.0</td>\n",
       "      <td>...</td>\n",
       "      <td>0.0</td>\n",
       "      <td>1.0</td>\n",
       "      <td>0.0</td>\n",
       "      <td>0.0</td>\n",
       "      <td>0.0</td>\n",
       "      <td>0.0</td>\n",
       "      <td>1.0</td>\n",
       "      <td>2</td>\n",
       "      <td>4</td>\n",
       "      <td>1</td>\n",
       "    </tr>\n",
       "  </tbody>\n",
       "</table>\n",
       "<p>2 rows × 34 columns</p>\n",
       "</div>"
      ],
      "text/plain": [
       "   customer_lifetime_value    income  monthly_premium_auto  \\\n",
       "0                 0.949037  0.466052               0.53211   \n",
       "1                 0.569877  0.000000               0.46789   \n",
       "\n",
       "   months_since_last_claim  months_since_policy_inception  \\\n",
       "0                 0.971429                       0.747475   \n",
       "1                 0.342857                       0.939394   \n",
       "\n",
       "   number_of_open_complaints  number_of_policies  state_Arizona  \\\n",
       "0                        0.4               0.125            0.0   \n",
       "1                        0.0               0.250            0.0   \n",
       "\n",
       "   state_California  state_Nevada  ...  policy_type_Corporate Auto  \\\n",
       "0               1.0           0.0  ...                         0.0   \n",
       "1               0.0           0.0  ...                         0.0   \n",
       "\n",
       "   policy_type_Personal Auto  policy_type_Special Auto  sales_channel_Agent  \\\n",
       "0                        1.0                       0.0                  0.0   \n",
       "1                        1.0                       0.0                  0.0   \n",
       "\n",
       "   sales_channel_Branch  sales_channel_Call Center  sales_channel_Web  \\\n",
       "0                   0.0                        1.0                0.0   \n",
       "1                   0.0                        0.0                1.0   \n",
       "\n",
       "   vehicle_size  vehicle_class  education  \n",
       "0             2              2          1  \n",
       "1             2              4          1  \n",
       "\n",
       "[2 rows x 34 columns]"
      ]
     },
     "metadata": {},
     "output_type": "display_data"
    },
    {
     "data": {
      "text/html": [
       "<div>\n",
       "<style scoped>\n",
       "    .dataframe tbody tr th:only-of-type {\n",
       "        vertical-align: middle;\n",
       "    }\n",
       "\n",
       "    .dataframe tbody tr th {\n",
       "        vertical-align: top;\n",
       "    }\n",
       "\n",
       "    .dataframe thead th {\n",
       "        text-align: right;\n",
       "    }\n",
       "</style>\n",
       "<table border=\"1\" class=\"dataframe\">\n",
       "  <thead>\n",
       "    <tr style=\"text-align: right;\">\n",
       "      <th></th>\n",
       "      <th>customer_lifetime_value</th>\n",
       "      <th>income</th>\n",
       "      <th>monthly_premium_auto</th>\n",
       "      <th>months_since_last_claim</th>\n",
       "      <th>months_since_policy_inception</th>\n",
       "      <th>number_of_open_complaints</th>\n",
       "      <th>number_of_policies</th>\n",
       "      <th>state_Arizona</th>\n",
       "      <th>state_California</th>\n",
       "      <th>state_Nevada</th>\n",
       "      <th>...</th>\n",
       "      <th>policy_type_Corporate Auto</th>\n",
       "      <th>policy_type_Personal Auto</th>\n",
       "      <th>policy_type_Special Auto</th>\n",
       "      <th>sales_channel_Agent</th>\n",
       "      <th>sales_channel_Branch</th>\n",
       "      <th>sales_channel_Call Center</th>\n",
       "      <th>sales_channel_Web</th>\n",
       "      <th>vehicle_size</th>\n",
       "      <th>vehicle_class</th>\n",
       "      <th>education</th>\n",
       "    </tr>\n",
       "  </thead>\n",
       "  <tbody>\n",
       "    <tr>\n",
       "      <th>0</th>\n",
       "      <td>0.101245</td>\n",
       "      <td>0.215724</td>\n",
       "      <td>0.000000</td>\n",
       "      <td>0.314286</td>\n",
       "      <td>0.616162</td>\n",
       "      <td>0.0</td>\n",
       "      <td>0.000</td>\n",
       "      <td>0.0</td>\n",
       "      <td>1.0</td>\n",
       "      <td>0.0</td>\n",
       "      <td>...</td>\n",
       "      <td>1.0</td>\n",
       "      <td>0.0</td>\n",
       "      <td>0.0</td>\n",
       "      <td>0.0</td>\n",
       "      <td>0.0</td>\n",
       "      <td>1.0</td>\n",
       "      <td>0.0</td>\n",
       "      <td>3</td>\n",
       "      <td>1</td>\n",
       "      <td>3</td>\n",
       "    </tr>\n",
       "    <tr>\n",
       "      <th>1</th>\n",
       "      <td>0.805670</td>\n",
       "      <td>0.637799</td>\n",
       "      <td>0.009174</td>\n",
       "      <td>0.800000</td>\n",
       "      <td>0.404040</td>\n",
       "      <td>0.0</td>\n",
       "      <td>0.125</td>\n",
       "      <td>0.0</td>\n",
       "      <td>1.0</td>\n",
       "      <td>0.0</td>\n",
       "      <td>...</td>\n",
       "      <td>0.0</td>\n",
       "      <td>1.0</td>\n",
       "      <td>0.0</td>\n",
       "      <td>0.0</td>\n",
       "      <td>0.0</td>\n",
       "      <td>0.0</td>\n",
       "      <td>1.0</td>\n",
       "      <td>2</td>\n",
       "      <td>1</td>\n",
       "      <td>3</td>\n",
       "    </tr>\n",
       "  </tbody>\n",
       "</table>\n",
       "<p>2 rows × 34 columns</p>\n",
       "</div>"
      ],
      "text/plain": [
       "   customer_lifetime_value    income  monthly_premium_auto  \\\n",
       "0                 0.101245  0.215724              0.000000   \n",
       "1                 0.805670  0.637799              0.009174   \n",
       "\n",
       "   months_since_last_claim  months_since_policy_inception  \\\n",
       "0                 0.314286                       0.616162   \n",
       "1                 0.800000                       0.404040   \n",
       "\n",
       "   number_of_open_complaints  number_of_policies  state_Arizona  \\\n",
       "0                        0.0               0.000            0.0   \n",
       "1                        0.0               0.125            0.0   \n",
       "\n",
       "   state_California  state_Nevada  ...  policy_type_Corporate Auto  \\\n",
       "0               1.0           0.0  ...                         1.0   \n",
       "1               1.0           0.0  ...                         0.0   \n",
       "\n",
       "   policy_type_Personal Auto  policy_type_Special Auto  sales_channel_Agent  \\\n",
       "0                        0.0                       0.0                  0.0   \n",
       "1                        1.0                       0.0                  0.0   \n",
       "\n",
       "   sales_channel_Branch  sales_channel_Call Center  sales_channel_Web  \\\n",
       "0                   0.0                        1.0                0.0   \n",
       "1                   0.0                        0.0                1.0   \n",
       "\n",
       "   vehicle_size  vehicle_class  education  \n",
       "0             3              1          3  \n",
       "1             2              1          3  \n",
       "\n",
       "[2 rows x 34 columns]"
      ]
     },
     "metadata": {},
     "output_type": "display_data"
    }
   ],
   "source": [
    "new_transformed_train = pd.concat([num_without_index_train, cat_without_index_train, Size, Class, Education],axis=1)\n",
    "new_transformed_test = pd.concat([num_without_index_test, cat_without_index_test, Size_test, Class_test, Education_test],axis=1)\n",
    "\n",
    "display(new_transformed_train.head(2))\n",
    "display(new_transformed_test.head(2))"
   ]
  },
  {
   "cell_type": "code",
   "execution_count": 49,
   "id": "c819c83c",
   "metadata": {},
   "outputs": [
    {
     "data": {
      "text/plain": [
       "(1741, 34)"
      ]
     },
     "execution_count": 49,
     "metadata": {},
     "output_type": "execute_result"
    }
   ],
   "source": [
    "new_transformed_test.shape"
   ]
  },
  {
   "cell_type": "markdown",
   "id": "87179101",
   "metadata": {},
   "source": [
    "12. Apply another MinMaxScaler to the concatenated DataFrame."
   ]
  },
  {
   "cell_type": "code",
   "execution_count": 50,
   "id": "79c01719",
   "metadata": {},
   "outputs": [
    {
     "data": {
      "text/html": [
       "<div>\n",
       "<style scoped>\n",
       "    .dataframe tbody tr th:only-of-type {\n",
       "        vertical-align: middle;\n",
       "    }\n",
       "\n",
       "    .dataframe tbody tr th {\n",
       "        vertical-align: top;\n",
       "    }\n",
       "\n",
       "    .dataframe thead th {\n",
       "        text-align: right;\n",
       "    }\n",
       "</style>\n",
       "<table border=\"1\" class=\"dataframe\">\n",
       "  <thead>\n",
       "    <tr style=\"text-align: right;\">\n",
       "      <th></th>\n",
       "      <th>customer_lifetime_value</th>\n",
       "      <th>income</th>\n",
       "      <th>monthly_premium_auto</th>\n",
       "      <th>months_since_last_claim</th>\n",
       "      <th>months_since_policy_inception</th>\n",
       "      <th>number_of_open_complaints</th>\n",
       "      <th>number_of_policies</th>\n",
       "      <th>state_Arizona</th>\n",
       "      <th>state_California</th>\n",
       "      <th>state_Nevada</th>\n",
       "      <th>...</th>\n",
       "      <th>policy_type_Corporate Auto</th>\n",
       "      <th>policy_type_Personal Auto</th>\n",
       "      <th>policy_type_Special Auto</th>\n",
       "      <th>sales_channel_Agent</th>\n",
       "      <th>sales_channel_Branch</th>\n",
       "      <th>sales_channel_Call Center</th>\n",
       "      <th>sales_channel_Web</th>\n",
       "      <th>vehicle_size</th>\n",
       "      <th>vehicle_class</th>\n",
       "      <th>education</th>\n",
       "    </tr>\n",
       "  </thead>\n",
       "  <tbody>\n",
       "    <tr>\n",
       "      <th>0</th>\n",
       "      <td>0.949037</td>\n",
       "      <td>0.466052</td>\n",
       "      <td>0.53211</td>\n",
       "      <td>0.971429</td>\n",
       "      <td>0.747475</td>\n",
       "      <td>0.4</td>\n",
       "      <td>0.125</td>\n",
       "      <td>0.0</td>\n",
       "      <td>1.0</td>\n",
       "      <td>0.0</td>\n",
       "      <td>...</td>\n",
       "      <td>0.0</td>\n",
       "      <td>1.0</td>\n",
       "      <td>0.0</td>\n",
       "      <td>0.0</td>\n",
       "      <td>0.0</td>\n",
       "      <td>1.0</td>\n",
       "      <td>0.0</td>\n",
       "      <td>0.5</td>\n",
       "      <td>0.333333</td>\n",
       "      <td>0.0</td>\n",
       "    </tr>\n",
       "    <tr>\n",
       "      <th>1</th>\n",
       "      <td>0.569877</td>\n",
       "      <td>0.000000</td>\n",
       "      <td>0.46789</td>\n",
       "      <td>0.342857</td>\n",
       "      <td>0.939394</td>\n",
       "      <td>0.0</td>\n",
       "      <td>0.250</td>\n",
       "      <td>0.0</td>\n",
       "      <td>0.0</td>\n",
       "      <td>0.0</td>\n",
       "      <td>...</td>\n",
       "      <td>0.0</td>\n",
       "      <td>1.0</td>\n",
       "      <td>0.0</td>\n",
       "      <td>0.0</td>\n",
       "      <td>0.0</td>\n",
       "      <td>0.0</td>\n",
       "      <td>1.0</td>\n",
       "      <td>0.5</td>\n",
       "      <td>1.000000</td>\n",
       "      <td>0.0</td>\n",
       "    </tr>\n",
       "  </tbody>\n",
       "</table>\n",
       "<p>2 rows × 34 columns</p>\n",
       "</div>"
      ],
      "text/plain": [
       "   customer_lifetime_value    income  monthly_premium_auto  \\\n",
       "0                 0.949037  0.466052               0.53211   \n",
       "1                 0.569877  0.000000               0.46789   \n",
       "\n",
       "   months_since_last_claim  months_since_policy_inception  \\\n",
       "0                 0.971429                       0.747475   \n",
       "1                 0.342857                       0.939394   \n",
       "\n",
       "   number_of_open_complaints  number_of_policies  state_Arizona  \\\n",
       "0                        0.4               0.125            0.0   \n",
       "1                        0.0               0.250            0.0   \n",
       "\n",
       "   state_California  state_Nevada  ...  policy_type_Corporate Auto  \\\n",
       "0               1.0           0.0  ...                         0.0   \n",
       "1               0.0           0.0  ...                         0.0   \n",
       "\n",
       "   policy_type_Personal Auto  policy_type_Special Auto  sales_channel_Agent  \\\n",
       "0                        1.0                       0.0                  0.0   \n",
       "1                        1.0                       0.0                  0.0   \n",
       "\n",
       "   sales_channel_Branch  sales_channel_Call Center  sales_channel_Web  \\\n",
       "0                   0.0                        1.0                0.0   \n",
       "1                   0.0                        0.0                1.0   \n",
       "\n",
       "   vehicle_size  vehicle_class  education  \n",
       "0           0.5       0.333333        0.0  \n",
       "1           0.5       1.000000        0.0  \n",
       "\n",
       "[2 rows x 34 columns]"
      ]
     },
     "metadata": {},
     "output_type": "display_data"
    },
    {
     "data": {
      "text/html": [
       "<div>\n",
       "<style scoped>\n",
       "    .dataframe tbody tr th:only-of-type {\n",
       "        vertical-align: middle;\n",
       "    }\n",
       "\n",
       "    .dataframe tbody tr th {\n",
       "        vertical-align: top;\n",
       "    }\n",
       "\n",
       "    .dataframe thead th {\n",
       "        text-align: right;\n",
       "    }\n",
       "</style>\n",
       "<table border=\"1\" class=\"dataframe\">\n",
       "  <thead>\n",
       "    <tr style=\"text-align: right;\">\n",
       "      <th></th>\n",
       "      <th>customer_lifetime_value</th>\n",
       "      <th>income</th>\n",
       "      <th>monthly_premium_auto</th>\n",
       "      <th>months_since_last_claim</th>\n",
       "      <th>months_since_policy_inception</th>\n",
       "      <th>number_of_open_complaints</th>\n",
       "      <th>number_of_policies</th>\n",
       "      <th>state_Arizona</th>\n",
       "      <th>state_California</th>\n",
       "      <th>state_Nevada</th>\n",
       "      <th>...</th>\n",
       "      <th>policy_type_Corporate Auto</th>\n",
       "      <th>policy_type_Personal Auto</th>\n",
       "      <th>policy_type_Special Auto</th>\n",
       "      <th>sales_channel_Agent</th>\n",
       "      <th>sales_channel_Branch</th>\n",
       "      <th>sales_channel_Call Center</th>\n",
       "      <th>sales_channel_Web</th>\n",
       "      <th>vehicle_size</th>\n",
       "      <th>vehicle_class</th>\n",
       "      <th>education</th>\n",
       "    </tr>\n",
       "  </thead>\n",
       "  <tbody>\n",
       "    <tr>\n",
       "      <th>0</th>\n",
       "      <td>0.101245</td>\n",
       "      <td>0.215724</td>\n",
       "      <td>0.000000</td>\n",
       "      <td>0.314286</td>\n",
       "      <td>0.616162</td>\n",
       "      <td>0.0</td>\n",
       "      <td>0.000</td>\n",
       "      <td>0.0</td>\n",
       "      <td>1.0</td>\n",
       "      <td>0.0</td>\n",
       "      <td>...</td>\n",
       "      <td>1.0</td>\n",
       "      <td>0.0</td>\n",
       "      <td>0.0</td>\n",
       "      <td>0.0</td>\n",
       "      <td>0.0</td>\n",
       "      <td>1.0</td>\n",
       "      <td>0.0</td>\n",
       "      <td>1.0</td>\n",
       "      <td>0.0</td>\n",
       "      <td>0.5</td>\n",
       "    </tr>\n",
       "    <tr>\n",
       "      <th>1</th>\n",
       "      <td>0.805670</td>\n",
       "      <td>0.637799</td>\n",
       "      <td>0.009174</td>\n",
       "      <td>0.800000</td>\n",
       "      <td>0.404040</td>\n",
       "      <td>0.0</td>\n",
       "      <td>0.125</td>\n",
       "      <td>0.0</td>\n",
       "      <td>1.0</td>\n",
       "      <td>0.0</td>\n",
       "      <td>...</td>\n",
       "      <td>0.0</td>\n",
       "      <td>1.0</td>\n",
       "      <td>0.0</td>\n",
       "      <td>0.0</td>\n",
       "      <td>0.0</td>\n",
       "      <td>0.0</td>\n",
       "      <td>1.0</td>\n",
       "      <td>0.5</td>\n",
       "      <td>0.0</td>\n",
       "      <td>0.5</td>\n",
       "    </tr>\n",
       "  </tbody>\n",
       "</table>\n",
       "<p>2 rows × 34 columns</p>\n",
       "</div>"
      ],
      "text/plain": [
       "   customer_lifetime_value    income  monthly_premium_auto  \\\n",
       "0                 0.101245  0.215724              0.000000   \n",
       "1                 0.805670  0.637799              0.009174   \n",
       "\n",
       "   months_since_last_claim  months_since_policy_inception  \\\n",
       "0                 0.314286                       0.616162   \n",
       "1                 0.800000                       0.404040   \n",
       "\n",
       "   number_of_open_complaints  number_of_policies  state_Arizona  \\\n",
       "0                        0.0               0.000            0.0   \n",
       "1                        0.0               0.125            0.0   \n",
       "\n",
       "   state_California  state_Nevada  ...  policy_type_Corporate Auto  \\\n",
       "0               1.0           0.0  ...                         1.0   \n",
       "1               1.0           0.0  ...                         0.0   \n",
       "\n",
       "   policy_type_Personal Auto  policy_type_Special Auto  sales_channel_Agent  \\\n",
       "0                        0.0                       0.0                  0.0   \n",
       "1                        1.0                       0.0                  0.0   \n",
       "\n",
       "   sales_channel_Branch  sales_channel_Call Center  sales_channel_Web  \\\n",
       "0                   0.0                        1.0                0.0   \n",
       "1                   0.0                        0.0                1.0   \n",
       "\n",
       "   vehicle_size  vehicle_class  education  \n",
       "0           1.0            0.0        0.5  \n",
       "1           0.5            0.0        0.5  \n",
       "\n",
       "[2 rows x 34 columns]"
      ]
     },
     "metadata": {},
     "output_type": "display_data"
    }
   ],
   "source": [
    "from sklearn.preprocessing import MinMaxScaler # Sets for each colum the minimum = 0 and the maximum = 1\n",
    "\n",
    "scaler8 = MinMaxScaler()\n",
    "#scaler7 = MinMaxScaler()\n",
    "\n",
    "scaler8.fit(new_transformed_train) # fit() Determine the min and the max of each column in the TRAIN set\n",
    "#scaler7.fit(X_test_df_num)\n",
    "\n",
    "\n",
    "X_train_scaled8 = scaler8.transform(new_transformed_train) # .transform() applies the transformation x_normalized will be np.array\n",
    "X_test_scaled8  = scaler8.transform(new_transformed_test) # .transform() applies the transformation x_normalized will be np.array\n",
    "\n",
    "# We create new Pandas DataFrames out of the Numpy arrays.\n",
    "\n",
    "X_train_scaled_df8 = pd.DataFrame(X_train_scaled8, columns=new_transformed_train.columns)\n",
    "X_test_scaled_df8  = pd.DataFrame(X_test_scaled8,  columns=new_transformed_test.columns)\n",
    "\n",
    "display(X_train_scaled_df8.head(2))\n",
    "display(X_test_scaled_df8.head(2))"
   ]
  },
  {
   "cell_type": "markdown",
   "id": "29c0631e",
   "metadata": {},
   "source": [
    "13. Save all your MinMaxScaler right after the .fit() using pickle using the code shown below"
   ]
  },
  {
   "cell_type": "code",
   "execution_count": 51,
   "id": "b405d438",
   "metadata": {},
   "outputs": [],
   "source": [
    "path = \"scalers/\"\n",
    "# Check whether the specified path exists or not\n",
    "isExist = os.path.exists(path)\n",
    "if not isExist:\n",
    "  # Create a new directory because it does not exist\n",
    "  os.makedirs(path)\n",
    "  print(\"The new directory is created!\")\n",
    "\n",
    "filename = \"MinMaxScalar10.pkl\" # use a descriptive name for your encoder but keep the \".pkl\" file extension\n",
    "with open(path+filename, \"wb\") as file:\n",
    "   pickle.dump(scaler8, file) # Replace \"variable\" with the name of the variable that contains your transformer"
   ]
  },
  {
   "cell_type": "markdown",
   "id": "f4a5d44c",
   "metadata": {},
   "source": [
    "  "
   ]
  },
  {
   "cell_type": "markdown",
   "id": "155b5ad3",
   "metadata": {},
   "source": [
    "14. Apply linear regression to the Pandas DataFrame obtained in the previous step using sklearn"
   ]
  },
  {
   "cell_type": "code",
   "execution_count": 52,
   "id": "47329ccd",
   "metadata": {},
   "outputs": [
    {
     "data": {
      "text/plain": [
       "LinearRegression()"
      ]
     },
     "execution_count": 52,
     "metadata": {},
     "output_type": "execute_result"
    }
   ],
   "source": [
    "from sklearn.linear_model import LinearRegression\n",
    "\n",
    "linear_model = LinearRegression()\n",
    "linear_model.fit(X_train_scaled_df8, y_train)"
   ]
  },
  {
   "cell_type": "markdown",
   "id": "885487a7",
   "metadata": {},
   "source": [
    "15.save your linear model right after the .fit() using pickle"
   ]
  },
  {
   "cell_type": "code",
   "execution_count": 53,
   "id": "a56293d5",
   "metadata": {},
   "outputs": [],
   "source": [
    "path = \"models/\"\n",
    "# Check whether the specified path exists or not\n",
    "isExist = os.path.exists(path)\n",
    "if not isExist:\n",
    "    # Create a new directory because it does not exist\n",
    "    os.makedirs(path)\n",
    "    print(\"The new directory is created!\")\n",
    "\n",
    "filename = \"linear_regression6.pkl\" # use a descriptive name for your encoder but keep the \".pkl\" file extension\n",
    "with open(path+filename, \"wb\") as file:\n",
    "    pickle.dump(linear_model, file) # Replace \"variable\" with the name of the variable that contains your transformer"
   ]
  },
  {
   "cell_type": "markdown",
   "id": "66ce1d23",
   "metadata": {},
   "source": [
    "Model Validation"
   ]
  },
  {
   "cell_type": "markdown",
   "id": "df850bea",
   "metadata": {},
   "source": [
    "Compute the following metrics for your Train and Test sets:"
   ]
  },
  {
   "cell_type": "markdown",
   "id": "8c8fa438",
   "metadata": {},
   "source": [
    " "
   ]
  },
  {
   "cell_type": "markdown",
   "id": "bb867d19",
   "metadata": {},
   "source": [
    "Create a Pandas DataFrame to summarize the error metrics for the Train and Test sets."
   ]
  },
  {
   "cell_type": "code",
   "execution_count": 54,
   "id": "b8bd9c18",
   "metadata": {},
   "outputs": [
    {
     "data": {
      "text/plain": [
       "(1741, 34)"
      ]
     },
     "execution_count": 54,
     "metadata": {},
     "output_type": "execute_result"
    }
   ],
   "source": [
    "X_test_scaled_df8.shape"
   ]
  },
  {
   "cell_type": "code",
   "execution_count": 55,
   "id": "f5992a6a",
   "metadata": {},
   "outputs": [],
   "source": [
    "y_train_pred = linear_model.predict(X_train_scaled_df8)\n",
    "y_test_pred  = linear_model.predict(X_test_scaled_df8)"
   ]
  },
  {
   "cell_type": "code",
   "execution_count": 56,
   "id": "8a997310",
   "metadata": {},
   "outputs": [
    {
     "data": {
      "text/plain": [
       "6963"
      ]
     },
     "metadata": {},
     "output_type": "display_data"
    },
    {
     "data": {
      "text/plain": [
       "1741"
      ]
     },
     "metadata": {},
     "output_type": "display_data"
    }
   ],
   "source": [
    "display(len(y_train_pred))\n",
    "display(len(y_test_pred))"
   ]
  },
  {
   "cell_type": "code",
   "execution_count": 57,
   "id": "eb53375f",
   "metadata": {},
   "outputs": [
    {
     "data": {
      "text/html": [
       "<div>\n",
       "<style scoped>\n",
       "    .dataframe tbody tr th:only-of-type {\n",
       "        vertical-align: middle;\n",
       "    }\n",
       "\n",
       "    .dataframe tbody tr th {\n",
       "        vertical-align: top;\n",
       "    }\n",
       "\n",
       "    .dataframe thead th {\n",
       "        text-align: right;\n",
       "    }\n",
       "</style>\n",
       "<table border=\"1\" class=\"dataframe\">\n",
       "  <thead>\n",
       "    <tr style=\"text-align: right;\">\n",
       "      <th></th>\n",
       "      <th>Set</th>\n",
       "      <th>Real</th>\n",
       "      <th>Predicted</th>\n",
       "    </tr>\n",
       "  </thead>\n",
       "  <tbody>\n",
       "    <tr>\n",
       "      <th>0</th>\n",
       "      <td>Train</td>\n",
       "      <td>571.200000</td>\n",
       "      <td>518.500</td>\n",
       "    </tr>\n",
       "    <tr>\n",
       "      <th>1</th>\n",
       "      <td>Train</td>\n",
       "      <td>537.600000</td>\n",
       "      <td>656.125</td>\n",
       "    </tr>\n",
       "    <tr>\n",
       "      <th>2</th>\n",
       "      <td>Train</td>\n",
       "      <td>48.181699</td>\n",
       "      <td>243.125</td>\n",
       "    </tr>\n",
       "    <tr>\n",
       "      <th>3</th>\n",
       "      <td>Train</td>\n",
       "      <td>102.147789</td>\n",
       "      <td>175.500</td>\n",
       "    </tr>\n",
       "    <tr>\n",
       "      <th>4</th>\n",
       "      <td>Train</td>\n",
       "      <td>1027.000029</td>\n",
       "      <td>886.875</td>\n",
       "    </tr>\n",
       "  </tbody>\n",
       "</table>\n",
       "</div>"
      ],
      "text/plain": [
       "     Set         Real  Predicted\n",
       "0  Train   571.200000    518.500\n",
       "1  Train   537.600000    656.125\n",
       "2  Train    48.181699    243.125\n",
       "3  Train   102.147789    175.500\n",
       "4  Train  1027.000029    886.875"
      ]
     },
     "execution_count": 57,
     "metadata": {},
     "output_type": "execute_result"
    }
   ],
   "source": [
    "results = {\"Set\": [\"Train\"]*X_train.shape[0] + [\"Test\"]*X_test.shape[0], \n",
    "           \"Real\": list(y_train) + list(y_test),\n",
    "           \"Predicted\": list(y_train_pred) + list(y_test_pred)}\n",
    "\n",
    "results_df = pd.DataFrame(results)\n",
    "results_df.head()"
   ]
  },
  {
   "cell_type": "code",
   "execution_count": 58,
   "id": "6ae9ae1a",
   "metadata": {},
   "outputs": [],
   "source": [
    "from sklearn.metrics import mean_absolute_error, mean_squared_error, r2_score\n",
    "def error_metrics_report(y_real_train: list, y_real_test: list, y_pred_train: list, y_pred_test: list) -> pd.DataFrame:\n",
    "    '''\n",
    "    This function takes the real values and any model predictions for the Train and Test sets and returns a Pandas\n",
    "    DataFrame with a summary of error metrics for the Train and Test sets like this:\n",
    "\n",
    "    | Metric | Train | Test |\n",
    "    |--------|-------|------|\n",
    "    | MAE    | value | value|\n",
    "    | MSE    | value | value|\n",
    "    | RMSE   | value | value|\n",
    "    | R2     | value | value|\n",
    "\n",
    "    Inputs:\n",
    "    y_real_train: Python list with the real values to be predicted in the Train set\n",
    "    y_real_train: Python list with the real values to be predicted in the Train set\n",
    "    y_pred_train: Python list with the model's predicted values in the Train set\n",
    "    y_pred_test:  Python list with the model's predicted values in the Train set\n",
    "    '''\n",
    "\n",
    "    MAE_train = mean_absolute_error(y_real_train, y_pred_train)\n",
    "    MAE_test  = mean_absolute_error(y_real_test, y_pred_test)\n",
    "\n",
    "    # Mean squared error\n",
    "    MSE_train = mean_squared_error(y_real_train, y_pred_train)\n",
    "    MSE_test  = mean_squared_error(y_real_test, y_pred_test)\n",
    "\n",
    "    # Root mean squared error\n",
    "    RMSE_train = mean_squared_error(y_real_train, y_pred_train, squared=False)\n",
    "    RMSE_test  = mean_squared_error(y_real_test,  y_pred_test,  squared=False)\n",
    "\n",
    "    # R2\n",
    "    R2_train = r2_score(y_real_train, y_pred_train)\n",
    "    R2_test  = r2_score(y_real_test,  y_pred_test)\n",
    "\n",
    "    results = {\"Metric\": [\"MAE\",\"MSE\", \"RMSE\", \"R2\"], \n",
    "               \"Train\": [MAE_train, MSE_train, RMSE_train, R2_train],\n",
    "               \"Test\":  [MAE_test, MSE_test, RMSE_test, R2_test]}\n",
    "\n",
    "    results_df = pd.DataFrame(results).round(2)\n",
    "\n",
    "    return results_df"
   ]
  },
  {
   "cell_type": "code",
   "execution_count": 59,
   "id": "0c0c9011",
   "metadata": {},
   "outputs": [
    {
     "data": {
      "text/html": [
       "<div>\n",
       "<style scoped>\n",
       "    .dataframe tbody tr th:only-of-type {\n",
       "        vertical-align: middle;\n",
       "    }\n",
       "\n",
       "    .dataframe tbody tr th {\n",
       "        vertical-align: top;\n",
       "    }\n",
       "\n",
       "    .dataframe thead th {\n",
       "        text-align: right;\n",
       "    }\n",
       "</style>\n",
       "<table border=\"1\" class=\"dataframe\">\n",
       "  <thead>\n",
       "    <tr style=\"text-align: right;\">\n",
       "      <th></th>\n",
       "      <th>Metric</th>\n",
       "      <th>Train</th>\n",
       "      <th>Test</th>\n",
       "    </tr>\n",
       "  </thead>\n",
       "  <tbody>\n",
       "    <tr>\n",
       "      <th>0</th>\n",
       "      <td>MAE</td>\n",
       "      <td>129.68</td>\n",
       "      <td>128.35</td>\n",
       "    </tr>\n",
       "    <tr>\n",
       "      <th>1</th>\n",
       "      <td>MSE</td>\n",
       "      <td>29830.54</td>\n",
       "      <td>29312.00</td>\n",
       "    </tr>\n",
       "    <tr>\n",
       "      <th>2</th>\n",
       "      <td>RMSE</td>\n",
       "      <td>172.72</td>\n",
       "      <td>171.21</td>\n",
       "    </tr>\n",
       "    <tr>\n",
       "      <th>3</th>\n",
       "      <td>R2</td>\n",
       "      <td>0.47</td>\n",
       "      <td>0.45</td>\n",
       "    </tr>\n",
       "  </tbody>\n",
       "</table>\n",
       "</div>"
      ],
      "text/plain": [
       "  Metric     Train      Test\n",
       "0    MAE    129.68    128.35\n",
       "1    MSE  29830.54  29312.00\n",
       "2   RMSE    172.72    171.21\n",
       "3     R2      0.47      0.45"
      ]
     },
     "execution_count": 59,
     "metadata": {},
     "output_type": "execute_result"
    }
   ],
   "source": [
    "error_metrics_report(list(results_df[results_df[\"Set\"]==\"Train\"][\"Real\"]),\n",
    "                     list(results_df[results_df[\"Set\"]==\"Test\"][\"Real\"]),\n",
    "                     list(results_df[results_df[\"Set\"]==\"Train\"][\"Predicted\"]),\n",
    "                     list(results_df[results_df[\"Set\"]==\"Test\"][\"Predicted\"]))"
   ]
  },
  {
   "cell_type": "code",
   "execution_count": null,
   "id": "31fc0d7e",
   "metadata": {},
   "outputs": [],
   "source": []
  }
 ],
 "metadata": {
  "kernelspec": {
   "display_name": "Python 3 (ipykernel)",
   "language": "python",
   "name": "python3"
  },
  "language_info": {
   "codemirror_mode": {
    "name": "ipython",
    "version": 3
   },
   "file_extension": ".py",
   "mimetype": "text/x-python",
   "name": "python",
   "nbconvert_exporter": "python",
   "pygments_lexer": "ipython3",
   "version": "3.9.12"
  }
 },
 "nbformat": 4,
 "nbformat_minor": 5
}
